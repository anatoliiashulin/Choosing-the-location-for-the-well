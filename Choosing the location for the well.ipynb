{
 "cells": [
  {
   "cell_type": "markdown",
   "metadata": {},
   "source": [
    "# Выбор локации для скважины"
   ]
  },
  {
   "cell_type": "markdown",
   "metadata": {},
   "source": [
    "Допустим, вы работаете в добывающей компании «ГлавРосГосНефть». Нужно решить, где бурить новую скважину.\n",
    "\n",
    "Вам предоставлены пробы нефти в трёх регионах: в каждом 10 000 месторождений, где измерили качество нефти и объём её запасов. Постройте модель машинного обучения, которая поможет определить регион, где добыча принесёт наибольшую прибыль. Проанализируйте возможную прибыль и риски техникой *Bootstrap.*\n",
    "\n",
    "Шаги для выбора локации:\n",
    "\n",
    "- В избранном регионе ищут месторождения, для каждого определяют значения признаков;\n",
    "- Строят модель и оценивают объём запасов;\n",
    "- Выбирают месторождения с самым высокими оценками значений. Количество месторождений зависит от бюджета компании и стоимости разработки одной скважины;\n",
    "- Прибыль равна суммарной прибыли отобранных месторождений."
   ]
  },
  {
   "cell_type": "markdown",
   "metadata": {},
   "source": [
    "## Загрузка и подготовка данных"
   ]
  },
  {
   "cell_type": "code",
   "execution_count": 1,
   "metadata": {},
   "outputs": [],
   "source": [
    "import pandas as pd\n",
    "import numpy as np\n",
    "import matplotlib.pyplot as plt\n",
    "from sklearn.model_selection import train_test_split\n",
    "from sklearn.preprocessing import StandardScaler\n",
    "from sklearn.metrics import mean_squared_error\n",
    "from sklearn.linear_model import LinearRegression\n",
    "\n",
    "pd.options.mode.chained_assignment = None\n",
    "state = np.random.RandomState(12345)"
   ]
  },
  {
   "cell_type": "code",
   "execution_count": 2,
   "metadata": {},
   "outputs": [],
   "source": [
    "#читаем датафайлы\n",
    "df_0 = pd.read_csv('/datasets/geo_data_0.csv') #данные по 0 региону\n",
    "df_1 = pd.read_csv('/datasets/geo_data_1.csv') #данные по 1 региону\n",
    "df_2 = pd.read_csv('/datasets/geo_data_2.csv') #по 2ому"
   ]
  },
  {
   "cell_type": "code",
   "execution_count": 3,
   "metadata": {},
   "outputs": [
    {
     "data": {
      "text/html": [
       "<div>\n",
       "<style scoped>\n",
       "    .dataframe tbody tr th:only-of-type {\n",
       "        vertical-align: middle;\n",
       "    }\n",
       "\n",
       "    .dataframe tbody tr th {\n",
       "        vertical-align: top;\n",
       "    }\n",
       "\n",
       "    .dataframe thead th {\n",
       "        text-align: right;\n",
       "    }\n",
       "</style>\n",
       "<table border=\"1\" class=\"dataframe\">\n",
       "  <thead>\n",
       "    <tr style=\"text-align: right;\">\n",
       "      <th></th>\n",
       "      <th>id</th>\n",
       "      <th>f0</th>\n",
       "      <th>f1</th>\n",
       "      <th>f2</th>\n",
       "      <th>product</th>\n",
       "    </tr>\n",
       "  </thead>\n",
       "  <tbody>\n",
       "    <tr>\n",
       "      <th>0</th>\n",
       "      <td>txEyH</td>\n",
       "      <td>0.705745</td>\n",
       "      <td>-0.497823</td>\n",
       "      <td>1.221170</td>\n",
       "      <td>105.280062</td>\n",
       "    </tr>\n",
       "    <tr>\n",
       "      <th>1</th>\n",
       "      <td>2acmU</td>\n",
       "      <td>1.334711</td>\n",
       "      <td>-0.340164</td>\n",
       "      <td>4.365080</td>\n",
       "      <td>73.037750</td>\n",
       "    </tr>\n",
       "    <tr>\n",
       "      <th>2</th>\n",
       "      <td>409Wp</td>\n",
       "      <td>1.022732</td>\n",
       "      <td>0.151990</td>\n",
       "      <td>1.419926</td>\n",
       "      <td>85.265647</td>\n",
       "    </tr>\n",
       "  </tbody>\n",
       "</table>\n",
       "</div>"
      ],
      "text/plain": [
       "      id        f0        f1        f2     product\n",
       "0  txEyH  0.705745 -0.497823  1.221170  105.280062\n",
       "1  2acmU  1.334711 -0.340164  4.365080   73.037750\n",
       "2  409Wp  1.022732  0.151990  1.419926   85.265647"
      ]
     },
     "metadata": {},
     "output_type": "display_data"
    },
    {
     "data": {
      "text/html": [
       "<div>\n",
       "<style scoped>\n",
       "    .dataframe tbody tr th:only-of-type {\n",
       "        vertical-align: middle;\n",
       "    }\n",
       "\n",
       "    .dataframe tbody tr th {\n",
       "        vertical-align: top;\n",
       "    }\n",
       "\n",
       "    .dataframe thead th {\n",
       "        text-align: right;\n",
       "    }\n",
       "</style>\n",
       "<table border=\"1\" class=\"dataframe\">\n",
       "  <thead>\n",
       "    <tr style=\"text-align: right;\">\n",
       "      <th></th>\n",
       "      <th>id</th>\n",
       "      <th>f0</th>\n",
       "      <th>f1</th>\n",
       "      <th>f2</th>\n",
       "      <th>product</th>\n",
       "    </tr>\n",
       "  </thead>\n",
       "  <tbody>\n",
       "    <tr>\n",
       "      <th>0</th>\n",
       "      <td>kBEdx</td>\n",
       "      <td>-15.001348</td>\n",
       "      <td>-8.276000</td>\n",
       "      <td>-0.005876</td>\n",
       "      <td>3.179103</td>\n",
       "    </tr>\n",
       "    <tr>\n",
       "      <th>1</th>\n",
       "      <td>62mP7</td>\n",
       "      <td>14.272088</td>\n",
       "      <td>-3.475083</td>\n",
       "      <td>0.999183</td>\n",
       "      <td>26.953261</td>\n",
       "    </tr>\n",
       "    <tr>\n",
       "      <th>2</th>\n",
       "      <td>vyE1P</td>\n",
       "      <td>6.263187</td>\n",
       "      <td>-5.948386</td>\n",
       "      <td>5.001160</td>\n",
       "      <td>134.766305</td>\n",
       "    </tr>\n",
       "  </tbody>\n",
       "</table>\n",
       "</div>"
      ],
      "text/plain": [
       "      id         f0        f1        f2     product\n",
       "0  kBEdx -15.001348 -8.276000 -0.005876    3.179103\n",
       "1  62mP7  14.272088 -3.475083  0.999183   26.953261\n",
       "2  vyE1P   6.263187 -5.948386  5.001160  134.766305"
      ]
     },
     "metadata": {},
     "output_type": "display_data"
    },
    {
     "data": {
      "text/html": [
       "<div>\n",
       "<style scoped>\n",
       "    .dataframe tbody tr th:only-of-type {\n",
       "        vertical-align: middle;\n",
       "    }\n",
       "\n",
       "    .dataframe tbody tr th {\n",
       "        vertical-align: top;\n",
       "    }\n",
       "\n",
       "    .dataframe thead th {\n",
       "        text-align: right;\n",
       "    }\n",
       "</style>\n",
       "<table border=\"1\" class=\"dataframe\">\n",
       "  <thead>\n",
       "    <tr style=\"text-align: right;\">\n",
       "      <th></th>\n",
       "      <th>id</th>\n",
       "      <th>f0</th>\n",
       "      <th>f1</th>\n",
       "      <th>f2</th>\n",
       "      <th>product</th>\n",
       "    </tr>\n",
       "  </thead>\n",
       "  <tbody>\n",
       "    <tr>\n",
       "      <th>0</th>\n",
       "      <td>fwXo0</td>\n",
       "      <td>-1.146987</td>\n",
       "      <td>0.963328</td>\n",
       "      <td>-0.828965</td>\n",
       "      <td>27.758673</td>\n",
       "    </tr>\n",
       "    <tr>\n",
       "      <th>1</th>\n",
       "      <td>WJtFt</td>\n",
       "      <td>0.262778</td>\n",
       "      <td>0.269839</td>\n",
       "      <td>-2.530187</td>\n",
       "      <td>56.069697</td>\n",
       "    </tr>\n",
       "    <tr>\n",
       "      <th>2</th>\n",
       "      <td>ovLUW</td>\n",
       "      <td>0.194587</td>\n",
       "      <td>0.289035</td>\n",
       "      <td>-5.586433</td>\n",
       "      <td>62.871910</td>\n",
       "    </tr>\n",
       "  </tbody>\n",
       "</table>\n",
       "</div>"
      ],
      "text/plain": [
       "      id        f0        f1        f2    product\n",
       "0  fwXo0 -1.146987  0.963328 -0.828965  27.758673\n",
       "1  WJtFt  0.262778  0.269839 -2.530187  56.069697\n",
       "2  ovLUW  0.194587  0.289035 -5.586433  62.871910"
      ]
     },
     "metadata": {},
     "output_type": "display_data"
    }
   ],
   "source": [
    "#первый взгляд на наши файлы\n",
    "for i in [df_0, df_1, df_2]:\n",
    "    display(i.head(3))"
   ]
  },
  {
   "cell_type": "markdown",
   "metadata": {},
   "source": [
    "`id` - это уникальный индентификатор скважины. В будущем мы их удалим, что бы уникальные значения не перегружали модель    \n",
    "`f0,f1,f2` - колонки признаков (при том не дана информация, что они означают, но известно, что признаки значимы)    \n",
    "`product` - объём запасов в скважине (в тысячах баррелях)."
   ]
  },
  {
   "cell_type": "code",
   "execution_count": 4,
   "metadata": {},
   "outputs": [
    {
     "data": {
      "text/plain": [
       "(100000, 5)"
      ]
     },
     "metadata": {},
     "output_type": "display_data"
    },
    {
     "data": {
      "text/plain": [
       "(100000, 5)"
      ]
     },
     "metadata": {},
     "output_type": "display_data"
    },
    {
     "data": {
      "text/plain": [
       "(100000, 5)"
      ]
     },
     "metadata": {},
     "output_type": "display_data"
    }
   ],
   "source": [
    "#проверяем размер таблицы\n",
    "for i in [df_0, df_1, df_2]:\n",
    "    display(i.shape)"
   ]
  },
  {
   "cell_type": "markdown",
   "metadata": {},
   "source": [
    "В ходе обработки данных было обнаруженно, что в `id` есть повторяющиеся значения"
   ]
  },
  {
   "cell_type": "code",
   "execution_count": 5,
   "metadata": {},
   "outputs": [
    {
     "data": {
      "text/html": [
       "<div>\n",
       "<style scoped>\n",
       "    .dataframe tbody tr th:only-of-type {\n",
       "        vertical-align: middle;\n",
       "    }\n",
       "\n",
       "    .dataframe tbody tr th {\n",
       "        vertical-align: top;\n",
       "    }\n",
       "\n",
       "    .dataframe thead th {\n",
       "        text-align: right;\n",
       "    }\n",
       "</style>\n",
       "<table border=\"1\" class=\"dataframe\">\n",
       "  <thead>\n",
       "    <tr style=\"text-align: right;\">\n",
       "      <th></th>\n",
       "      <th>id</th>\n",
       "      <th>f0</th>\n",
       "      <th>f1</th>\n",
       "      <th>f2</th>\n",
       "      <th>product</th>\n",
       "    </tr>\n",
       "  </thead>\n",
       "  <tbody>\n",
       "    <tr>\n",
       "      <th>66136</th>\n",
       "      <td>74z30</td>\n",
       "      <td>1.084962</td>\n",
       "      <td>-0.312358</td>\n",
       "      <td>6.990771</td>\n",
       "      <td>127.643327</td>\n",
       "    </tr>\n",
       "    <tr>\n",
       "      <th>64022</th>\n",
       "      <td>74z30</td>\n",
       "      <td>0.741456</td>\n",
       "      <td>0.459229</td>\n",
       "      <td>5.153109</td>\n",
       "      <td>140.771492</td>\n",
       "    </tr>\n",
       "    <tr>\n",
       "      <th>51970</th>\n",
       "      <td>A5aEY</td>\n",
       "      <td>-0.180335</td>\n",
       "      <td>0.935548</td>\n",
       "      <td>-2.094773</td>\n",
       "      <td>33.020205</td>\n",
       "    </tr>\n",
       "    <tr>\n",
       "      <th>3389</th>\n",
       "      <td>A5aEY</td>\n",
       "      <td>-0.039949</td>\n",
       "      <td>0.156872</td>\n",
       "      <td>0.209861</td>\n",
       "      <td>89.249364</td>\n",
       "    </tr>\n",
       "    <tr>\n",
       "      <th>69163</th>\n",
       "      <td>AGS9W</td>\n",
       "      <td>-0.933795</td>\n",
       "      <td>0.116194</td>\n",
       "      <td>-3.655896</td>\n",
       "      <td>19.230453</td>\n",
       "    </tr>\n",
       "    <tr>\n",
       "      <th>42529</th>\n",
       "      <td>AGS9W</td>\n",
       "      <td>1.454747</td>\n",
       "      <td>-0.479651</td>\n",
       "      <td>0.683380</td>\n",
       "      <td>126.370504</td>\n",
       "    </tr>\n",
       "    <tr>\n",
       "      <th>931</th>\n",
       "      <td>HZww2</td>\n",
       "      <td>0.755284</td>\n",
       "      <td>0.368511</td>\n",
       "      <td>1.863211</td>\n",
       "      <td>30.681774</td>\n",
       "    </tr>\n",
       "    <tr>\n",
       "      <th>7530</th>\n",
       "      <td>HZww2</td>\n",
       "      <td>1.061194</td>\n",
       "      <td>-0.373969</td>\n",
       "      <td>10.430210</td>\n",
       "      <td>158.828695</td>\n",
       "    </tr>\n",
       "    <tr>\n",
       "      <th>63593</th>\n",
       "      <td>QcMuo</td>\n",
       "      <td>0.635635</td>\n",
       "      <td>-0.473422</td>\n",
       "      <td>0.862670</td>\n",
       "      <td>64.578675</td>\n",
       "    </tr>\n",
       "    <tr>\n",
       "      <th>1949</th>\n",
       "      <td>QcMuo</td>\n",
       "      <td>0.506563</td>\n",
       "      <td>-0.323775</td>\n",
       "      <td>-2.215583</td>\n",
       "      <td>75.496502</td>\n",
       "    </tr>\n",
       "    <tr>\n",
       "      <th>75715</th>\n",
       "      <td>Tdehs</td>\n",
       "      <td>0.112079</td>\n",
       "      <td>0.430296</td>\n",
       "      <td>3.218993</td>\n",
       "      <td>60.964018</td>\n",
       "    </tr>\n",
       "    <tr>\n",
       "      <th>21426</th>\n",
       "      <td>Tdehs</td>\n",
       "      <td>0.829407</td>\n",
       "      <td>0.298807</td>\n",
       "      <td>-0.049563</td>\n",
       "      <td>96.035308</td>\n",
       "    </tr>\n",
       "    <tr>\n",
       "      <th>92341</th>\n",
       "      <td>TtcGQ</td>\n",
       "      <td>0.110711</td>\n",
       "      <td>1.022689</td>\n",
       "      <td>0.911381</td>\n",
       "      <td>101.318008</td>\n",
       "    </tr>\n",
       "    <tr>\n",
       "      <th>60140</th>\n",
       "      <td>TtcGQ</td>\n",
       "      <td>0.569276</td>\n",
       "      <td>-0.104876</td>\n",
       "      <td>6.440215</td>\n",
       "      <td>85.350186</td>\n",
       "    </tr>\n",
       "    <tr>\n",
       "      <th>89582</th>\n",
       "      <td>bsk9y</td>\n",
       "      <td>0.398908</td>\n",
       "      <td>-0.400253</td>\n",
       "      <td>10.122376</td>\n",
       "      <td>163.433078</td>\n",
       "    </tr>\n",
       "    <tr>\n",
       "      <th>97785</th>\n",
       "      <td>bsk9y</td>\n",
       "      <td>0.378429</td>\n",
       "      <td>0.005837</td>\n",
       "      <td>0.160827</td>\n",
       "      <td>160.637302</td>\n",
       "    </tr>\n",
       "    <tr>\n",
       "      <th>41724</th>\n",
       "      <td>bxg6G</td>\n",
       "      <td>-0.823752</td>\n",
       "      <td>0.546319</td>\n",
       "      <td>3.630479</td>\n",
       "      <td>93.007798</td>\n",
       "    </tr>\n",
       "    <tr>\n",
       "      <th>1364</th>\n",
       "      <td>bxg6G</td>\n",
       "      <td>0.411645</td>\n",
       "      <td>0.856830</td>\n",
       "      <td>-3.653440</td>\n",
       "      <td>73.604260</td>\n",
       "    </tr>\n",
       "    <tr>\n",
       "      <th>16633</th>\n",
       "      <td>fiKDv</td>\n",
       "      <td>0.157341</td>\n",
       "      <td>1.028359</td>\n",
       "      <td>5.585586</td>\n",
       "      <td>95.817889</td>\n",
       "    </tr>\n",
       "    <tr>\n",
       "      <th>90815</th>\n",
       "      <td>fiKDv</td>\n",
       "      <td>0.049883</td>\n",
       "      <td>0.841313</td>\n",
       "      <td>6.394613</td>\n",
       "      <td>137.346586</td>\n",
       "    </tr>\n",
       "  </tbody>\n",
       "</table>\n",
       "</div>"
      ],
      "text/plain": [
       "          id        f0        f1         f2     product\n",
       "66136  74z30  1.084962 -0.312358   6.990771  127.643327\n",
       "64022  74z30  0.741456  0.459229   5.153109  140.771492\n",
       "51970  A5aEY -0.180335  0.935548  -2.094773   33.020205\n",
       "3389   A5aEY -0.039949  0.156872   0.209861   89.249364\n",
       "69163  AGS9W -0.933795  0.116194  -3.655896   19.230453\n",
       "42529  AGS9W  1.454747 -0.479651   0.683380  126.370504\n",
       "931    HZww2  0.755284  0.368511   1.863211   30.681774\n",
       "7530   HZww2  1.061194 -0.373969  10.430210  158.828695\n",
       "63593  QcMuo  0.635635 -0.473422   0.862670   64.578675\n",
       "1949   QcMuo  0.506563 -0.323775  -2.215583   75.496502\n",
       "75715  Tdehs  0.112079  0.430296   3.218993   60.964018\n",
       "21426  Tdehs  0.829407  0.298807  -0.049563   96.035308\n",
       "92341  TtcGQ  0.110711  1.022689   0.911381  101.318008\n",
       "60140  TtcGQ  0.569276 -0.104876   6.440215   85.350186\n",
       "89582  bsk9y  0.398908 -0.400253  10.122376  163.433078\n",
       "97785  bsk9y  0.378429  0.005837   0.160827  160.637302\n",
       "41724  bxg6G -0.823752  0.546319   3.630479   93.007798\n",
       "1364   bxg6G  0.411645  0.856830  -3.653440   73.604260\n",
       "16633  fiKDv  0.157341  1.028359   5.585586   95.817889\n",
       "90815  fiKDv  0.049883  0.841313   6.394613  137.346586"
      ]
     },
     "metadata": {},
     "output_type": "display_data"
    },
    {
     "data": {
      "text/html": [
       "<div>\n",
       "<style scoped>\n",
       "    .dataframe tbody tr th:only-of-type {\n",
       "        vertical-align: middle;\n",
       "    }\n",
       "\n",
       "    .dataframe tbody tr th {\n",
       "        vertical-align: top;\n",
       "    }\n",
       "\n",
       "    .dataframe thead th {\n",
       "        text-align: right;\n",
       "    }\n",
       "</style>\n",
       "<table border=\"1\" class=\"dataframe\">\n",
       "  <thead>\n",
       "    <tr style=\"text-align: right;\">\n",
       "      <th></th>\n",
       "      <th>id</th>\n",
       "      <th>f0</th>\n",
       "      <th>f1</th>\n",
       "      <th>f2</th>\n",
       "      <th>product</th>\n",
       "    </tr>\n",
       "  </thead>\n",
       "  <tbody>\n",
       "    <tr>\n",
       "      <th>5849</th>\n",
       "      <td>5ltQ6</td>\n",
       "      <td>-3.435401</td>\n",
       "      <td>-12.296043</td>\n",
       "      <td>1.999796</td>\n",
       "      <td>57.085625</td>\n",
       "    </tr>\n",
       "    <tr>\n",
       "      <th>84461</th>\n",
       "      <td>5ltQ6</td>\n",
       "      <td>18.213839</td>\n",
       "      <td>2.191999</td>\n",
       "      <td>3.993869</td>\n",
       "      <td>107.813044</td>\n",
       "    </tr>\n",
       "    <tr>\n",
       "      <th>1305</th>\n",
       "      <td>LHZR0</td>\n",
       "      <td>11.170835</td>\n",
       "      <td>-1.945066</td>\n",
       "      <td>3.002872</td>\n",
       "      <td>80.859783</td>\n",
       "    </tr>\n",
       "    <tr>\n",
       "      <th>41906</th>\n",
       "      <td>LHZR0</td>\n",
       "      <td>-8.989672</td>\n",
       "      <td>-4.286607</td>\n",
       "      <td>2.009139</td>\n",
       "      <td>57.085625</td>\n",
       "    </tr>\n",
       "    <tr>\n",
       "      <th>2721</th>\n",
       "      <td>bfPNe</td>\n",
       "      <td>-9.494442</td>\n",
       "      <td>-5.463692</td>\n",
       "      <td>4.006042</td>\n",
       "      <td>110.992147</td>\n",
       "    </tr>\n",
       "    <tr>\n",
       "      <th>82178</th>\n",
       "      <td>bfPNe</td>\n",
       "      <td>-6.202799</td>\n",
       "      <td>-4.820045</td>\n",
       "      <td>2.995107</td>\n",
       "      <td>84.038886</td>\n",
       "    </tr>\n",
       "    <tr>\n",
       "      <th>47591</th>\n",
       "      <td>wt4Uk</td>\n",
       "      <td>-9.091098</td>\n",
       "      <td>-8.109279</td>\n",
       "      <td>-0.002314</td>\n",
       "      <td>3.179103</td>\n",
       "    </tr>\n",
       "    <tr>\n",
       "      <th>82873</th>\n",
       "      <td>wt4Uk</td>\n",
       "      <td>10.259972</td>\n",
       "      <td>-9.376355</td>\n",
       "      <td>4.994297</td>\n",
       "      <td>134.766305</td>\n",
       "    </tr>\n",
       "  </tbody>\n",
       "</table>\n",
       "</div>"
      ],
      "text/plain": [
       "          id         f0         f1        f2     product\n",
       "5849   5ltQ6  -3.435401 -12.296043  1.999796   57.085625\n",
       "84461  5ltQ6  18.213839   2.191999  3.993869  107.813044\n",
       "1305   LHZR0  11.170835  -1.945066  3.002872   80.859783\n",
       "41906  LHZR0  -8.989672  -4.286607  2.009139   57.085625\n",
       "2721   bfPNe  -9.494442  -5.463692  4.006042  110.992147\n",
       "82178  bfPNe  -6.202799  -4.820045  2.995107   84.038886\n",
       "47591  wt4Uk  -9.091098  -8.109279 -0.002314    3.179103\n",
       "82873  wt4Uk  10.259972  -9.376355  4.994297  134.766305"
      ]
     },
     "metadata": {},
     "output_type": "display_data"
    },
    {
     "data": {
      "text/html": [
       "<div>\n",
       "<style scoped>\n",
       "    .dataframe tbody tr th:only-of-type {\n",
       "        vertical-align: middle;\n",
       "    }\n",
       "\n",
       "    .dataframe tbody tr th {\n",
       "        vertical-align: top;\n",
       "    }\n",
       "\n",
       "    .dataframe thead th {\n",
       "        text-align: right;\n",
       "    }\n",
       "</style>\n",
       "<table border=\"1\" class=\"dataframe\">\n",
       "  <thead>\n",
       "    <tr style=\"text-align: right;\">\n",
       "      <th></th>\n",
       "      <th>id</th>\n",
       "      <th>f0</th>\n",
       "      <th>f1</th>\n",
       "      <th>f2</th>\n",
       "      <th>product</th>\n",
       "    </tr>\n",
       "  </thead>\n",
       "  <tbody>\n",
       "    <tr>\n",
       "      <th>45404</th>\n",
       "      <td>KUPhW</td>\n",
       "      <td>0.231846</td>\n",
       "      <td>-1.698941</td>\n",
       "      <td>4.990775</td>\n",
       "      <td>11.716299</td>\n",
       "    </tr>\n",
       "    <tr>\n",
       "      <th>55967</th>\n",
       "      <td>KUPhW</td>\n",
       "      <td>1.211150</td>\n",
       "      <td>3.176408</td>\n",
       "      <td>5.543540</td>\n",
       "      <td>132.831802</td>\n",
       "    </tr>\n",
       "    <tr>\n",
       "      <th>11449</th>\n",
       "      <td>VF7Jo</td>\n",
       "      <td>2.122656</td>\n",
       "      <td>-0.858275</td>\n",
       "      <td>5.746001</td>\n",
       "      <td>181.716817</td>\n",
       "    </tr>\n",
       "    <tr>\n",
       "      <th>49564</th>\n",
       "      <td>VF7Jo</td>\n",
       "      <td>-0.883115</td>\n",
       "      <td>0.560537</td>\n",
       "      <td>0.723601</td>\n",
       "      <td>136.233420</td>\n",
       "    </tr>\n",
       "    <tr>\n",
       "      <th>44378</th>\n",
       "      <td>Vcm5J</td>\n",
       "      <td>-1.229484</td>\n",
       "      <td>-2.439204</td>\n",
       "      <td>1.222909</td>\n",
       "      <td>137.968290</td>\n",
       "    </tr>\n",
       "    <tr>\n",
       "      <th>95090</th>\n",
       "      <td>Vcm5J</td>\n",
       "      <td>2.587702</td>\n",
       "      <td>1.986875</td>\n",
       "      <td>2.482245</td>\n",
       "      <td>92.327572</td>\n",
       "    </tr>\n",
       "    <tr>\n",
       "      <th>28039</th>\n",
       "      <td>xCHr8</td>\n",
       "      <td>1.633027</td>\n",
       "      <td>0.368135</td>\n",
       "      <td>-2.378367</td>\n",
       "      <td>6.120525</td>\n",
       "    </tr>\n",
       "    <tr>\n",
       "      <th>43233</th>\n",
       "      <td>xCHr8</td>\n",
       "      <td>-0.847066</td>\n",
       "      <td>2.101796</td>\n",
       "      <td>5.597130</td>\n",
       "      <td>184.388641</td>\n",
       "    </tr>\n",
       "  </tbody>\n",
       "</table>\n",
       "</div>"
      ],
      "text/plain": [
       "          id        f0        f1        f2     product\n",
       "45404  KUPhW  0.231846 -1.698941  4.990775   11.716299\n",
       "55967  KUPhW  1.211150  3.176408  5.543540  132.831802\n",
       "11449  VF7Jo  2.122656 -0.858275  5.746001  181.716817\n",
       "49564  VF7Jo -0.883115  0.560537  0.723601  136.233420\n",
       "44378  Vcm5J -1.229484 -2.439204  1.222909  137.968290\n",
       "95090  Vcm5J  2.587702  1.986875  2.482245   92.327572\n",
       "28039  xCHr8  1.633027  0.368135 -2.378367    6.120525\n",
       "43233  xCHr8 -0.847066  2.101796  5.597130  184.388641"
      ]
     },
     "metadata": {},
     "output_type": "display_data"
    }
   ],
   "source": [
    "#вывожу все колонки с повторяющимися id\n",
    "for i in [df_0, df_1, df_2]:\n",
    "    display(i[i['id'].duplicated(keep = False)].sort_values(by ='id'))"
   ]
  },
  {
   "cell_type": "markdown",
   "metadata": {},
   "source": [
    "Конечно, повторы в `id` для данного проекта нас не сильно беспокоят. Но хорошим тоном будет сообщить о данной проблеме"
   ]
  },
  {
   "cell_type": "code",
   "execution_count": 6,
   "metadata": {},
   "outputs": [
    {
     "name": "stdout",
     "output_type": "stream",
     "text": [
      "Количество пропущенных значений в df_0\n",
      "id         0\n",
      "f0         0\n",
      "f1         0\n",
      "f2         0\n",
      "product    0\n",
      "dtype: int64\n",
      "\n",
      "Количество пропущенных значений в df_1\n",
      "id         0\n",
      "f0         0\n",
      "f1         0\n",
      "f2         0\n",
      "product    0\n",
      "dtype: int64\n",
      "\n",
      "Количество пропущенных значений в df_2\n",
      "id         0\n",
      "f0         0\n",
      "f1         0\n",
      "f2         0\n",
      "product    0\n",
      "dtype: int64\n",
      "\n"
     ]
    }
   ],
   "source": [
    "#делаем проверку на наличие пропусков\n",
    "for i,y in zip([df_0, df_1, df_2], ['df_0', 'df_1', 'df_2']):\n",
    "    print(f'Количество пропущенных значений в {y}\\n{i.isna().sum()}\\n')"
   ]
  },
  {
   "cell_type": "code",
   "execution_count": 7,
   "metadata": {},
   "outputs": [
    {
     "data": {
      "text/html": [
       "<div>\n",
       "<style scoped>\n",
       "    .dataframe tbody tr th:only-of-type {\n",
       "        vertical-align: middle;\n",
       "    }\n",
       "\n",
       "    .dataframe tbody tr th {\n",
       "        vertical-align: top;\n",
       "    }\n",
       "\n",
       "    .dataframe thead th {\n",
       "        text-align: right;\n",
       "    }\n",
       "</style>\n",
       "<table border=\"1\" class=\"dataframe\">\n",
       "  <thead>\n",
       "    <tr style=\"text-align: right;\">\n",
       "      <th></th>\n",
       "      <th>f0</th>\n",
       "      <th>f1</th>\n",
       "      <th>f2</th>\n",
       "      <th>product</th>\n",
       "    </tr>\n",
       "  </thead>\n",
       "  <tbody>\n",
       "    <tr>\n",
       "      <th>count</th>\n",
       "      <td>100000.000000</td>\n",
       "      <td>100000.000000</td>\n",
       "      <td>100000.000000</td>\n",
       "      <td>100000.000000</td>\n",
       "    </tr>\n",
       "    <tr>\n",
       "      <th>mean</th>\n",
       "      <td>0.500419</td>\n",
       "      <td>0.250143</td>\n",
       "      <td>2.502647</td>\n",
       "      <td>92.500000</td>\n",
       "    </tr>\n",
       "    <tr>\n",
       "      <th>std</th>\n",
       "      <td>0.871832</td>\n",
       "      <td>0.504433</td>\n",
       "      <td>3.248248</td>\n",
       "      <td>44.288691</td>\n",
       "    </tr>\n",
       "    <tr>\n",
       "      <th>min</th>\n",
       "      <td>-1.408605</td>\n",
       "      <td>-0.848218</td>\n",
       "      <td>-12.088328</td>\n",
       "      <td>0.000000</td>\n",
       "    </tr>\n",
       "    <tr>\n",
       "      <th>25%</th>\n",
       "      <td>-0.072580</td>\n",
       "      <td>-0.200881</td>\n",
       "      <td>0.287748</td>\n",
       "      <td>56.497507</td>\n",
       "    </tr>\n",
       "    <tr>\n",
       "      <th>50%</th>\n",
       "      <td>0.502360</td>\n",
       "      <td>0.250252</td>\n",
       "      <td>2.515969</td>\n",
       "      <td>91.849972</td>\n",
       "    </tr>\n",
       "    <tr>\n",
       "      <th>75%</th>\n",
       "      <td>1.073581</td>\n",
       "      <td>0.700646</td>\n",
       "      <td>4.715088</td>\n",
       "      <td>128.564089</td>\n",
       "    </tr>\n",
       "    <tr>\n",
       "      <th>max</th>\n",
       "      <td>2.362331</td>\n",
       "      <td>1.343769</td>\n",
       "      <td>16.003790</td>\n",
       "      <td>185.364347</td>\n",
       "    </tr>\n",
       "  </tbody>\n",
       "</table>\n",
       "</div>"
      ],
      "text/plain": [
       "                  f0             f1             f2        product\n",
       "count  100000.000000  100000.000000  100000.000000  100000.000000\n",
       "mean        0.500419       0.250143       2.502647      92.500000\n",
       "std         0.871832       0.504433       3.248248      44.288691\n",
       "min        -1.408605      -0.848218     -12.088328       0.000000\n",
       "25%        -0.072580      -0.200881       0.287748      56.497507\n",
       "50%         0.502360       0.250252       2.515969      91.849972\n",
       "75%         1.073581       0.700646       4.715088     128.564089\n",
       "max         2.362331       1.343769      16.003790     185.364347"
      ]
     },
     "metadata": {},
     "output_type": "display_data"
    },
    {
     "data": {
      "text/html": [
       "<div>\n",
       "<style scoped>\n",
       "    .dataframe tbody tr th:only-of-type {\n",
       "        vertical-align: middle;\n",
       "    }\n",
       "\n",
       "    .dataframe tbody tr th {\n",
       "        vertical-align: top;\n",
       "    }\n",
       "\n",
       "    .dataframe thead th {\n",
       "        text-align: right;\n",
       "    }\n",
       "</style>\n",
       "<table border=\"1\" class=\"dataframe\">\n",
       "  <thead>\n",
       "    <tr style=\"text-align: right;\">\n",
       "      <th></th>\n",
       "      <th>f0</th>\n",
       "      <th>f1</th>\n",
       "      <th>f2</th>\n",
       "      <th>product</th>\n",
       "    </tr>\n",
       "  </thead>\n",
       "  <tbody>\n",
       "    <tr>\n",
       "      <th>count</th>\n",
       "      <td>100000.000000</td>\n",
       "      <td>100000.000000</td>\n",
       "      <td>100000.000000</td>\n",
       "      <td>100000.000000</td>\n",
       "    </tr>\n",
       "    <tr>\n",
       "      <th>mean</th>\n",
       "      <td>1.141296</td>\n",
       "      <td>-4.796579</td>\n",
       "      <td>2.494541</td>\n",
       "      <td>68.825000</td>\n",
       "    </tr>\n",
       "    <tr>\n",
       "      <th>std</th>\n",
       "      <td>8.965932</td>\n",
       "      <td>5.119872</td>\n",
       "      <td>1.703572</td>\n",
       "      <td>45.944423</td>\n",
       "    </tr>\n",
       "    <tr>\n",
       "      <th>min</th>\n",
       "      <td>-31.609576</td>\n",
       "      <td>-26.358598</td>\n",
       "      <td>-0.018144</td>\n",
       "      <td>0.000000</td>\n",
       "    </tr>\n",
       "    <tr>\n",
       "      <th>25%</th>\n",
       "      <td>-6.298551</td>\n",
       "      <td>-8.267985</td>\n",
       "      <td>1.000021</td>\n",
       "      <td>26.953261</td>\n",
       "    </tr>\n",
       "    <tr>\n",
       "      <th>50%</th>\n",
       "      <td>1.153055</td>\n",
       "      <td>-4.813172</td>\n",
       "      <td>2.011479</td>\n",
       "      <td>57.085625</td>\n",
       "    </tr>\n",
       "    <tr>\n",
       "      <th>75%</th>\n",
       "      <td>8.621015</td>\n",
       "      <td>-1.332816</td>\n",
       "      <td>3.999904</td>\n",
       "      <td>107.813044</td>\n",
       "    </tr>\n",
       "    <tr>\n",
       "      <th>max</th>\n",
       "      <td>29.421755</td>\n",
       "      <td>18.734063</td>\n",
       "      <td>5.019721</td>\n",
       "      <td>137.945408</td>\n",
       "    </tr>\n",
       "  </tbody>\n",
       "</table>\n",
       "</div>"
      ],
      "text/plain": [
       "                  f0             f1             f2        product\n",
       "count  100000.000000  100000.000000  100000.000000  100000.000000\n",
       "mean        1.141296      -4.796579       2.494541      68.825000\n",
       "std         8.965932       5.119872       1.703572      45.944423\n",
       "min       -31.609576     -26.358598      -0.018144       0.000000\n",
       "25%        -6.298551      -8.267985       1.000021      26.953261\n",
       "50%         1.153055      -4.813172       2.011479      57.085625\n",
       "75%         8.621015      -1.332816       3.999904     107.813044\n",
       "max        29.421755      18.734063       5.019721     137.945408"
      ]
     },
     "metadata": {},
     "output_type": "display_data"
    },
    {
     "data": {
      "text/html": [
       "<div>\n",
       "<style scoped>\n",
       "    .dataframe tbody tr th:only-of-type {\n",
       "        vertical-align: middle;\n",
       "    }\n",
       "\n",
       "    .dataframe tbody tr th {\n",
       "        vertical-align: top;\n",
       "    }\n",
       "\n",
       "    .dataframe thead th {\n",
       "        text-align: right;\n",
       "    }\n",
       "</style>\n",
       "<table border=\"1\" class=\"dataframe\">\n",
       "  <thead>\n",
       "    <tr style=\"text-align: right;\">\n",
       "      <th></th>\n",
       "      <th>f0</th>\n",
       "      <th>f1</th>\n",
       "      <th>f2</th>\n",
       "      <th>product</th>\n",
       "    </tr>\n",
       "  </thead>\n",
       "  <tbody>\n",
       "    <tr>\n",
       "      <th>count</th>\n",
       "      <td>100000.000000</td>\n",
       "      <td>100000.000000</td>\n",
       "      <td>100000.000000</td>\n",
       "      <td>100000.000000</td>\n",
       "    </tr>\n",
       "    <tr>\n",
       "      <th>mean</th>\n",
       "      <td>0.002023</td>\n",
       "      <td>-0.002081</td>\n",
       "      <td>2.495128</td>\n",
       "      <td>95.000000</td>\n",
       "    </tr>\n",
       "    <tr>\n",
       "      <th>std</th>\n",
       "      <td>1.732045</td>\n",
       "      <td>1.730417</td>\n",
       "      <td>3.473445</td>\n",
       "      <td>44.749921</td>\n",
       "    </tr>\n",
       "    <tr>\n",
       "      <th>min</th>\n",
       "      <td>-8.760004</td>\n",
       "      <td>-7.084020</td>\n",
       "      <td>-11.970335</td>\n",
       "      <td>0.000000</td>\n",
       "    </tr>\n",
       "    <tr>\n",
       "      <th>25%</th>\n",
       "      <td>-1.162288</td>\n",
       "      <td>-1.174820</td>\n",
       "      <td>0.130359</td>\n",
       "      <td>59.450441</td>\n",
       "    </tr>\n",
       "    <tr>\n",
       "      <th>50%</th>\n",
       "      <td>0.009424</td>\n",
       "      <td>-0.009482</td>\n",
       "      <td>2.484236</td>\n",
       "      <td>94.925613</td>\n",
       "    </tr>\n",
       "    <tr>\n",
       "      <th>75%</th>\n",
       "      <td>1.158535</td>\n",
       "      <td>1.163678</td>\n",
       "      <td>4.858794</td>\n",
       "      <td>130.595027</td>\n",
       "    </tr>\n",
       "    <tr>\n",
       "      <th>max</th>\n",
       "      <td>7.238262</td>\n",
       "      <td>7.844801</td>\n",
       "      <td>16.739402</td>\n",
       "      <td>190.029838</td>\n",
       "    </tr>\n",
       "  </tbody>\n",
       "</table>\n",
       "</div>"
      ],
      "text/plain": [
       "                  f0             f1             f2        product\n",
       "count  100000.000000  100000.000000  100000.000000  100000.000000\n",
       "mean        0.002023      -0.002081       2.495128      95.000000\n",
       "std         1.732045       1.730417       3.473445      44.749921\n",
       "min        -8.760004      -7.084020     -11.970335       0.000000\n",
       "25%        -1.162288      -1.174820       0.130359      59.450441\n",
       "50%         0.009424      -0.009482       2.484236      94.925613\n",
       "75%         1.158535       1.163678       4.858794     130.595027\n",
       "max         7.238262       7.844801      16.739402     190.029838"
      ]
     },
     "metadata": {},
     "output_type": "display_data"
    }
   ],
   "source": [
    "#взглянем на наши данные по подробнее\n",
    "for i in [df_0, df_1, df_2]:\n",
    "    display(i.describe())"
   ]
  },
  {
   "cell_type": "markdown",
   "metadata": {},
   "source": [
    "Данные по своим характеристикам очень сильно разнятся.   \n",
    "У меня была идея объединить их при помощи `concat`. Потом обучить модель.   \n",
    "Ибо таким образом на тренировочную модель мы бы выдали 22_500 строк, а не обучали 3 модели по  7_500 строк.   \n",
    "И далее при помощь `.loc` разбить их по 3 датасетам с информацией о каждом регионе   \n",
    "\n",
    "Но недостатком данного решения будет   \n",
    "1) У нас нет уверенности, что в разных районах по одинковому расчитывались признаки. И тогда перемешивание данных приведёт нас к тому, что модель плохо обучится   \n",
    "2) В ходе разделения при помощи `train_test_split` на ключевой выборке у нас может получится разное количество строк для каждого из регионов\n",
    "\n",
    "\n",
    "По этому остановимся на варианте, где мы будем обучать модели ML для каждого региона по отдельности "
   ]
  },
  {
   "cell_type": "code",
   "execution_count": 8,
   "metadata": {},
   "outputs": [],
   "source": [
    "#создаём датасеты с признаками для 3ех регионов  удаляя уникальные id и значения целового признака\n",
    "features_0 = df_0.drop(['id', 'product'], axis = 1)  \n",
    "features_1 = df_1.drop(['id', 'product'], axis = 1)\n",
    "features_2 = df_2.drop(['id', 'product'], axis = 1)\n",
    "\n",
    "#датасеты с целевым призаком \n",
    "target_0 = df_0['product']\n",
    "target_1 = df_1['product']\n",
    "target_2 = df_2['product']"
   ]
  },
  {
   "cell_type": "code",
   "execution_count": 9,
   "metadata": {},
   "outputs": [],
   "source": [
    "#разбиваем на тренировочную (0.75) и валидационную (0.25) выборку \n",
    "\n",
    "features_train_0, features_valid_0, target_train_0, target_valid_0 = train_test_split(\n",
    "    features_0, target_0, test_size = 0.25, random_state = 12345)\n",
    "\n",
    "features_train_1, features_valid_1, target_train_1, target_valid_1 = train_test_split(\n",
    "    features_1, target_1, test_size = 0.25, random_state = 12345)\n",
    "\n",
    "features_train_2, features_valid_2, target_train_2, target_valid_2 = train_test_split(\n",
    "    features_2, target_2, test_size = 0.25, random_state = 12345)"
   ]
  },
  {
   "cell_type": "code",
   "execution_count": 10,
   "metadata": {},
   "outputs": [
    {
     "name": "stdout",
     "output_type": "stream",
     "text": [
      "Размеры выборок\n",
      "Тренировочная с признаками: (75000, 3)\n",
      "Валидационная с признакми: (25000, 3)\n",
      "\n",
      "Тренировочная с целевым признаком: (75000,)\n",
      "Валидационная с целевым признаком: (25000,)\n"
     ]
    }
   ],
   "source": [
    "#делаю проверку на то как разбились данные\n",
    "print('Размеры выборок')\n",
    "print(f'Тренировочная с признаками: {features_train_0.shape}\\nВалидационная с признакми: {features_valid_0.shape}\\n')\n",
    "print(f'Тренировочная с целевым признаком: {target_train_0.shape}\\nВалидационная с целевым признаком: {target_valid_0.shape}')"
   ]
  },
  {
   "cell_type": "code",
   "execution_count": 11,
   "metadata": {},
   "outputs": [],
   "source": [
    "#провожу масштабирование признаков\n",
    "scaler = StandardScaler()\n",
    "\n",
    "scaler.fit(features_train_0)\n",
    "features_train_0 = scaler.transform(features_train_0)\n",
    "features_valid_0 = scaler.transform(features_valid_0)\n",
    "\n",
    "scaler.fit(features_train_1)\n",
    "features_train_1 = scaler.transform(features_train_1)\n",
    "features_valid_1 = scaler.transform(features_valid_1)\n",
    "\n",
    "scaler.fit(features_train_2)\n",
    "features_train_2 = scaler.transform(features_train_2)\n",
    "features_valid_2 = scaler.transform(features_valid_2)"
   ]
  },
  {
   "cell_type": "markdown",
   "metadata": {},
   "source": [
    "Далее покажу что сделало наше масштабирование  \n",
    "Благодаря  нему у нас среднее будет стремиться к нулю (в идеале будет = 0). \n",
    "А стандартное отклонение будет равно = 1   \n",
    "\n",
    "Данное масштабирование очень сильно облегчает процесс обучения модели "
   ]
  },
  {
   "cell_type": "code",
   "execution_count": 12,
   "metadata": {},
   "outputs": [
    {
     "data": {
      "text/html": [
       "<div>\n",
       "<style scoped>\n",
       "    .dataframe tbody tr th:only-of-type {\n",
       "        vertical-align: middle;\n",
       "    }\n",
       "\n",
       "    .dataframe tbody tr th {\n",
       "        vertical-align: top;\n",
       "    }\n",
       "\n",
       "    .dataframe thead th {\n",
       "        text-align: right;\n",
       "    }\n",
       "</style>\n",
       "<table border=\"1\" class=\"dataframe\">\n",
       "  <thead>\n",
       "    <tr style=\"text-align: right;\">\n",
       "      <th></th>\n",
       "      <th>0</th>\n",
       "      <th>1</th>\n",
       "      <th>2</th>\n",
       "    </tr>\n",
       "  </thead>\n",
       "  <tbody>\n",
       "    <tr>\n",
       "      <th>count</th>\n",
       "      <td>7.500000e+04</td>\n",
       "      <td>7.500000e+04</td>\n",
       "      <td>7.500000e+04</td>\n",
       "    </tr>\n",
       "    <tr>\n",
       "      <th>mean</th>\n",
       "      <td>1.680907e-16</td>\n",
       "      <td>-3.474554e-17</td>\n",
       "      <td>6.442254e-18</td>\n",
       "    </tr>\n",
       "    <tr>\n",
       "      <th>std</th>\n",
       "      <td>1.000007e+00</td>\n",
       "      <td>1.000007e+00</td>\n",
       "      <td>1.000007e+00</td>\n",
       "    </tr>\n",
       "    <tr>\n",
       "      <th>min</th>\n",
       "      <td>-2.186288e+00</td>\n",
       "      <td>-2.178269e+00</td>\n",
       "      <td>-3.890945e+00</td>\n",
       "    </tr>\n",
       "    <tr>\n",
       "      <th>25%</th>\n",
       "      <td>-6.575544e-01</td>\n",
       "      <td>-8.925344e-01</td>\n",
       "      <td>-6.799576e-01</td>\n",
       "    </tr>\n",
       "    <tr>\n",
       "      <th>50%</th>\n",
       "      <td>1.878842e-03</td>\n",
       "      <td>-7.407961e-04</td>\n",
       "      <td>4.288679e-03</td>\n",
       "    </tr>\n",
       "    <tr>\n",
       "      <th>75%</th>\n",
       "      <td>6.571176e-01</td>\n",
       "      <td>8.928514e-01</td>\n",
       "      <td>6.829752e-01</td>\n",
       "    </tr>\n",
       "    <tr>\n",
       "      <th>max</th>\n",
       "      <td>2.139081e+00</td>\n",
       "      <td>2.169192e+00</td>\n",
       "      <td>4.153623e+00</td>\n",
       "    </tr>\n",
       "  </tbody>\n",
       "</table>\n",
       "</div>"
      ],
      "text/plain": [
       "                  0             1             2\n",
       "count  7.500000e+04  7.500000e+04  7.500000e+04\n",
       "mean   1.680907e-16 -3.474554e-17  6.442254e-18\n",
       "std    1.000007e+00  1.000007e+00  1.000007e+00\n",
       "min   -2.186288e+00 -2.178269e+00 -3.890945e+00\n",
       "25%   -6.575544e-01 -8.925344e-01 -6.799576e-01\n",
       "50%    1.878842e-03 -7.407961e-04  4.288679e-03\n",
       "75%    6.571176e-01  8.928514e-01  6.829752e-01\n",
       "max    2.139081e+00  2.169192e+00  4.153623e+00"
      ]
     },
     "execution_count": 12,
     "metadata": {},
     "output_type": "execute_result"
    }
   ],
   "source": [
    "pd.DataFrame(features_train_0).describe()"
   ]
  },
  {
   "cell_type": "markdown",
   "metadata": {},
   "source": [
    "Что и следовало доказать. Мы смогли масштабировать наши признаки "
   ]
  },
  {
   "cell_type": "markdown",
   "metadata": {},
   "source": [
    "### Вывод\n",
    "\n",
    "В данных пропусков и дубликатов нет. \n",
    "Было проведено разбиение на целевую и обучающюю выборку. Так же была проведена проверка на разбиение. \n",
    "И сделано шкалирование признаков. \n",
    "\n",
    "Мы готовы приступить к ML"
   ]
  },
  {
   "cell_type": "markdown",
   "metadata": {},
   "source": [
    "## Обучение и проверка модели"
   ]
  },
  {
   "cell_type": "code",
   "execution_count": 13,
   "metadata": {},
   "outputs": [
    {
     "name": "stdout",
     "output_type": "stream",
     "text": [
      "Регион 0 \n",
      "Средний запас предсказанного сырья: 92.59256778438035\n",
      "RMSE:37.5794217150813\n",
      "\n",
      "Регион 1 \n",
      "Средний запас предсказанного сырья: 68.728546895446\n",
      "RMSE:0.893099286775617\n",
      "\n",
      "Регион 2 \n",
      "Средний запас предсказанного сырья: 94.96504596800489\n",
      "RMSE:40.02970873393434\n",
      "\n"
     ]
    }
   ],
   "source": [
    "model = LinearRegression() #модель линейной регрессии \n",
    "\n",
    "\n",
    "model.fit(features_train_0, target_train_0) #обучение модели для 0 региона\n",
    "predictions_valid_0 = model.predict(features_valid_0) #предсказания\n",
    "print(f'Регион 0 \\nСредний запас предсказанного сырья: {predictions_valid_0.mean()}')\n",
    "print(f'RMSE:{mean_squared_error(target_valid_0,predictions_valid_0) **0.5}\\n')\n",
    "\n",
    "\n",
    "model.fit(features_train_1, target_train_1) #обучение модели для 1 региона\n",
    "predictions_valid_1 = model.predict(features_valid_1) #предсказания \n",
    "print(f'Регион 1 \\nСредний запас предсказанного сырья: {predictions_valid_1.mean()}')\n",
    "print(f'RMSE:{mean_squared_error(target_valid_1,predictions_valid_1) **0.5}\\n')\n",
    "\n",
    "\n",
    "model.fit(features_train_2, target_train_2) #обучение модели для 2 региона \n",
    "predictions_valid_2 = model.predict(features_valid_2) #предсказания\n",
    "print(f'Регион 2 \\nСредний запас предсказанного сырья: {predictions_valid_2.mean()}')\n",
    "print(f'RMSE:{mean_squared_error(target_valid_2,predictions_valid_2) **0.5}\\n')"
   ]
  },
  {
   "cell_type": "markdown",
   "metadata": {},
   "source": [
    "Создаём датафреймы с реальным значением  сырья в скважине и какое значение предсказывает ML"
   ]
  },
  {
   "cell_type": "code",
   "execution_count": 14,
   "metadata": {},
   "outputs": [],
   "source": [
    "df0 = pd.concat([target_valid_0.reset_index(drop = True), pd.Series(predictions_valid_0)], axis = 1)\n",
    "df0.rename(columns = {0: 'predictions'}, inplace = True)\n",
    "\n",
    "df1 = pd.concat([target_valid_1.reset_index(drop = True), pd.Series(predictions_valid_1)], axis = 1)\n",
    "df1.rename(columns = {0: 'predictions'}, inplace = True)\n",
    "\n",
    "df2 = pd.concat([target_valid_2.reset_index(drop = True), pd.Series(predictions_valid_2)], axis = 1)\n",
    "df2.rename(columns = {0: 'predictions'}, inplace = True)"
   ]
  },
  {
   "cell_type": "code",
   "execution_count": 15,
   "metadata": {},
   "outputs": [
    {
     "data": {
      "text/html": [
       "<div>\n",
       "<style scoped>\n",
       "    .dataframe tbody tr th:only-of-type {\n",
       "        vertical-align: middle;\n",
       "    }\n",
       "\n",
       "    .dataframe tbody tr th {\n",
       "        vertical-align: top;\n",
       "    }\n",
       "\n",
       "    .dataframe thead th {\n",
       "        text-align: right;\n",
       "    }\n",
       "</style>\n",
       "<table border=\"1\" class=\"dataframe\">\n",
       "  <thead>\n",
       "    <tr style=\"text-align: right;\">\n",
       "      <th></th>\n",
       "      <th>product</th>\n",
       "      <th>predictions</th>\n",
       "    </tr>\n",
       "  </thead>\n",
       "  <tbody>\n",
       "    <tr>\n",
       "      <th>0</th>\n",
       "      <td>10.038645</td>\n",
       "      <td>95.894952</td>\n",
       "    </tr>\n",
       "    <tr>\n",
       "      <th>1</th>\n",
       "      <td>114.551489</td>\n",
       "      <td>77.572583</td>\n",
       "    </tr>\n",
       "    <tr>\n",
       "      <th>2</th>\n",
       "      <td>132.603635</td>\n",
       "      <td>77.892640</td>\n",
       "    </tr>\n",
       "  </tbody>\n",
       "</table>\n",
       "</div>"
      ],
      "text/plain": [
       "      product  predictions\n",
       "0   10.038645    95.894952\n",
       "1  114.551489    77.572583\n",
       "2  132.603635    77.892640"
      ]
     },
     "metadata": {},
     "output_type": "display_data"
    },
    {
     "data": {
      "text/html": [
       "<div>\n",
       "<style scoped>\n",
       "    .dataframe tbody tr th:only-of-type {\n",
       "        vertical-align: middle;\n",
       "    }\n",
       "\n",
       "    .dataframe tbody tr th {\n",
       "        vertical-align: top;\n",
       "    }\n",
       "\n",
       "    .dataframe thead th {\n",
       "        text-align: right;\n",
       "    }\n",
       "</style>\n",
       "<table border=\"1\" class=\"dataframe\">\n",
       "  <thead>\n",
       "    <tr style=\"text-align: right;\">\n",
       "      <th></th>\n",
       "      <th>product</th>\n",
       "      <th>predictions</th>\n",
       "    </tr>\n",
       "  </thead>\n",
       "  <tbody>\n",
       "    <tr>\n",
       "      <th>0</th>\n",
       "      <td>80.859783</td>\n",
       "      <td>82.663314</td>\n",
       "    </tr>\n",
       "    <tr>\n",
       "      <th>1</th>\n",
       "      <td>53.906522</td>\n",
       "      <td>54.431786</td>\n",
       "    </tr>\n",
       "    <tr>\n",
       "      <th>2</th>\n",
       "      <td>30.132364</td>\n",
       "      <td>29.748760</td>\n",
       "    </tr>\n",
       "  </tbody>\n",
       "</table>\n",
       "</div>"
      ],
      "text/plain": [
       "     product  predictions\n",
       "0  80.859783    82.663314\n",
       "1  53.906522    54.431786\n",
       "2  30.132364    29.748760"
      ]
     },
     "metadata": {},
     "output_type": "display_data"
    },
    {
     "data": {
      "text/html": [
       "<div>\n",
       "<style scoped>\n",
       "    .dataframe tbody tr th:only-of-type {\n",
       "        vertical-align: middle;\n",
       "    }\n",
       "\n",
       "    .dataframe tbody tr th {\n",
       "        vertical-align: top;\n",
       "    }\n",
       "\n",
       "    .dataframe thead th {\n",
       "        text-align: right;\n",
       "    }\n",
       "</style>\n",
       "<table border=\"1\" class=\"dataframe\">\n",
       "  <thead>\n",
       "    <tr style=\"text-align: right;\">\n",
       "      <th></th>\n",
       "      <th>product</th>\n",
       "      <th>predictions</th>\n",
       "    </tr>\n",
       "  </thead>\n",
       "  <tbody>\n",
       "    <tr>\n",
       "      <th>0</th>\n",
       "      <td>61.212375</td>\n",
       "      <td>93.599633</td>\n",
       "    </tr>\n",
       "    <tr>\n",
       "      <th>1</th>\n",
       "      <td>41.850118</td>\n",
       "      <td>75.105159</td>\n",
       "    </tr>\n",
       "    <tr>\n",
       "      <th>2</th>\n",
       "      <td>57.776581</td>\n",
       "      <td>90.066809</td>\n",
       "    </tr>\n",
       "  </tbody>\n",
       "</table>\n",
       "</div>"
      ],
      "text/plain": [
       "     product  predictions\n",
       "0  61.212375    93.599633\n",
       "1  41.850118    75.105159\n",
       "2  57.776581    90.066809"
      ]
     },
     "metadata": {},
     "output_type": "display_data"
    }
   ],
   "source": [
    "#проверка того, какие получились датафреймы\n",
    "for i in [df0, df1, df2]:\n",
    "    display(i.head(3))"
   ]
  },
  {
   "cell_type": "markdown",
   "metadata": {},
   "source": [
    "Далее построим гистограммы того, как распределены у нас значения. "
   ]
  },
  {
   "cell_type": "code",
   "execution_count": 16,
   "metadata": {},
   "outputs": [
    {
     "data": {
      "image/png": "[encoded data removed]",
      "text/plain": [
       "<Figure size 1152x360 with 3 Axes>"
      ]
     },
     "metadata": {
      "needs_background": "light"
     },
     "output_type": "display_data"
    }
   ],
   "source": [
    "fig = plt.figure(figsize = (16,5))\n",
    "ax0 = fig.add_subplot(131)\n",
    "ax1 = fig.add_subplot(132)\n",
    "ax2 = fig.add_subplot(133)\n",
    "df0['product'].hist(ax = ax0, facecolor = '#03A9F4', bins = 15)\n",
    "df1['product'].hist(ax = ax1, facecolor = '#03A9F4', bins = 15)\n",
    "df2['product'].hist(ax = ax2, facecolor = '#03A9F4', bins = 15)\n",
    "df0['predictions'].hist(ax = ax0, facecolor = '#CF4720', alpha = 0.5, bins = 15)\n",
    "df1['predictions'].hist(ax = ax1, facecolor = '#CF4720', alpha = 0.5, bins = 15)\n",
    "df2['predictions'].hist(ax = ax2, facecolor = '#CF4720', alpha = 0.5, bins = 15)\n",
    "ax0.set_title('Объемы сырья в 0 регионе')\n",
    "ax0.set_xlabel('Объем добычи в тыс.баррелей')\n",
    "ax0.set_ylabel('Количество скважин')\n",
    "ax0.legend(['Фактические зн', 'предсказанные зн'])\n",
    "ax1.set_title('Объемы сырья в 1 регионе')\n",
    "ax1.set_xlabel('Объем добычи в тыс.баррелей')\n",
    "ax1.set_ylabel('Количество скважин')\n",
    "ax1.legend(['Фактические зн', 'предсказанные зн'])\n",
    "ax2.set_title('Объемы сырья в 2 регионе')\n",
    "ax2.set_xlabel('Объем добычи в тыс.баррелей')\n",
    "ax2.set_ylabel('Количество скважин')\n",
    "ax2.legend(['Фактические зн', 'предсказанные зн'])\n",
    "plt.show();"
   ]
  },
  {
   "cell_type": "markdown",
   "metadata": {},
   "source": [
    "### Вывод\n",
    "\n",
    "Наши модели обучились и была проведена оценка качества данных моделей при помощи RMSE   \n",
    "\n",
    "`Регион 0` и `Регион 2`   \n",
    "Имеют высокие показатели среднего запаса предсказанного сырья    \n",
    "Но имеют большую **RMSE**. Модели не очень хорошо обучились.    \n",
    "\n",
    "`Регион 1`    \n",
    "Имеют более низкий запас предсказанного сырья      \n",
    "Но в противовес ошибка **RMSE** ниже 1    \n",
    "    \n",
    "Возможно(пока делаем предположение), что регион 1 будет более интересным для бизнеса. Да в среднем запас сырья ниже, но очень высока предсказательная сила и мы сможем с большей вероятностью точно находить наилучшие скважины.     \n",
    "Далее проверим это предположение     \n",
    "\n",
    "Так же можно предположить, что в разных регионах по разному собирали данные. И что в 1ом регионе качество данных более высокое.\n",
    "\n",
    "\n",
    "*P.s. смотря на гистограммы можно сказать что в 1ом регионе данные созданы искусственно, тогда как в 0 и 2 регионе они похожи на нормальное распределение*  "
   ]
  },
  {
   "cell_type": "markdown",
   "metadata": {},
   "source": [
    "## Подготовка к расчёту прибыли"
   ]
  },
  {
   "cell_type": "code",
   "execution_count": 17,
   "metadata": {},
   "outputs": [
    {
     "name": "stdout",
     "output_type": "stream",
     "text": [
      "Средний запас топлива в точке добычи нефти 92.079 в тыс. барелях:\n",
      "Средний запас топлива в точке добычи нефти 68.723 в тыс. барелях:\n",
      "Средний запас топлива в точке добычи нефти 94.884 в тыс. барелях:\n"
     ]
    }
   ],
   "source": [
    "#Выводим реальные средние запасы топлива в регионах\n",
    "for i in [df0, df1, df2]:\n",
    "    print('Средний запас топлива в точке добычи нефти {0:3.3f} в тыс. барелях:'.format(i['product'].mean()))"
   ]
  },
  {
   "cell_type": "markdown",
   "metadata": {},
   "source": [
    "Так же как и с предсказанными даными наблюдаем, что в `регионе 0` и `регионе 1` имеются в среднем более большие запасы нефти "
   ]
  },
  {
   "cell_type": "markdown",
   "metadata": {},
   "source": [
    "### Константные значения"
   ]
  },
  {
   "cell_type": "markdown",
   "metadata": {},
   "source": [
    "Далее создаётся список константных значений.   \n",
    "В случае изменения ТЗ вы можете изменить константы, перезапустить код и сделать новые выводы "
   ]
  },
  {
   "cell_type": "code",
   "execution_count": 18,
   "metadata": {},
   "outputs": [],
   "source": [
    "POINTS = 500 #количество иследуемых точек \n",
    "BEST_POINTS = 200  #какое количество наилучших точек будет отбираться для разработки \n",
    "BUDGET = 10_000_000_000 #каков бюджет проекта\n",
    "COST = 450_000 #стоимость тысячи баррелей сырья\n",
    "CRITICAL = 0 #значения ниже этой отметки будут считаться убытком"
   ]
  },
  {
   "cell_type": "markdown",
   "metadata": {},
   "source": [
    "Мной была добавлена новая константа `critical`. Она показывает какие значения мы будем считать убытком. \n",
    "По умолчанию все значения прибыли ниже 0 будут считаться убытком.\n",
    "\n",
    "Вы можете изменить это значение. Что бы посмотреть вероятности того, что проект соберёт меньше заявлянной суммы"
   ]
  },
  {
   "cell_type": "markdown",
   "metadata": {},
   "source": [
    "Узнаём сколько тысяч баррелей должна добывать 1 скважина, что бы проект вышел в ноль(принесёт столько же денег, сколько и было в него вложено)"
   ]
  },
  {
   "cell_type": "code",
   "execution_count": 19,
   "metadata": {},
   "outputs": [
    {
     "name": "stdout",
     "output_type": "stream",
     "text": [
      "достаточный объём сырья для безубыточной разработки новой скважины = 111.111\n"
     ]
    }
   ],
   "source": [
    "print('достаточный объём сырья для безубыточной разработки новой скважины = {0:3.3f}'.format(BUDGET/BEST_POINTS/COST))"
   ]
  },
  {
   "cell_type": "markdown",
   "metadata": {},
   "source": [
    "### Вывод \n",
    "\n",
    "По показателям очень сильно проседает 1 регион. Всего 68.7 тыс.баррелей нефти в среднем.    \n",
    "В противоположность 0 и 2 регионы имеют от 92 до 94.8 тыс. баррели нефти в среднем. \n",
    "\n",
    "Но показатели все равно очень низкие. Без машинного обучения не получится случайным образом определять точки для добычи нефти. \n",
    "Для работы в 0 окупаемость скважина должна иметь 111.1 тысяч. баррелей нефти.\n",
    "\n",
    "Для получения прибыли мы должны найти самые лучшие точки для добычи нефти "
   ]
  },
  {
   "cell_type": "markdown",
   "metadata": {},
   "source": [
    "## Расчёт прибыли и рисков "
   ]
  },
  {
   "cell_type": "code",
   "execution_count": 20,
   "metadata": {},
   "outputs": [],
   "source": [
    "def profit(df):\n",
    "    '''Выводит прибыль'''\n",
    "    df = df.sort_values(by = 'predictions', ascending = False) #делаем сортировку по предсказанным значениям \n",
    "    df = df.iloc[0:BEST_POINTS - 1, 0] #отбираем необходимое количество месторождений с наилучшими предсказаниями\n",
    "    value = df.sum() * COST - BUDGET  #узнаём прибыль \n",
    "    return value"
   ]
  },
  {
   "cell_type": "code",
   "execution_count": 21,
   "metadata": {},
   "outputs": [],
   "source": [
    "def bootstrap(df):\n",
    "    '''Делает бутстрап и считает прибыль каждого субсемпла'''\n",
    "    values = []\n",
    "    for i in range(1000):\n",
    "        subsample = df.sample(n = POINTS, replace = True, random_state = state)\n",
    "        values.append(profit(subsample))\n",
    "    return pd.Series(values)"
   ]
  },
  {
   "cell_type": "code",
   "execution_count": 22,
   "metadata": {},
   "outputs": [],
   "source": [
    "x0 = bootstrap(df0)\n",
    "x1 = bootstrap(df1)\n",
    "x2 = bootstrap(df2)"
   ]
  },
  {
   "cell_type": "markdown",
   "metadata": {},
   "source": [
    "### Средняя прибыль в регионах"
   ]
  },
  {
   "cell_type": "code",
   "execution_count": 23,
   "metadata": {},
   "outputs": [
    {
     "name": "stdout",
     "output_type": "stream",
     "text": [
      "Ср. прибыль в 0 регионе = 351865661\n",
      "Ср. прибыль в 1 регионе = 423740378\n",
      "Ср. прибыль в 2 регионе = 348544941\n"
     ]
    }
   ],
   "source": [
    "print(f'Ср. прибыль в 0 регионе = {int(x0.mean())}\\nСр. прибыль в 1 регионе = {int(x1.mean())}')\n",
    "print(f'Ср. прибыль в 2 регионе = {int(x2.mean())}')"
   ]
  },
  {
   "cell_type": "code",
   "execution_count": 24,
   "metadata": {},
   "outputs": [
    {
     "name": "stdout",
     "output_type": "stream",
     "text": [
      "Cр. прибыль в 0 регионе = 351865661\n",
      "Cр. прибыль в 1 регионе = 423740378\n",
      "Cр. прибыль в 2 регионе = 348544941\n"
     ]
    }
   ],
   "source": [
    "for i, y in zip([x0, x1, x2], ['0', '1', '2']):\n",
    "    print(f'Cр. прибыль в {y} регионе = {int(i.mean())}')"
   ]
  },
  {
   "cell_type": "markdown",
   "metadata": {},
   "source": [
    "### Вероятность убытков "
   ]
  },
  {
   "cell_type": "code",
   "execution_count": 25,
   "metadata": {},
   "outputs": [
    {
     "name": "stdout",
     "output_type": "stream",
     "text": [
      "Вероятность убытков в 0 регионе = 9.1 %\n",
      "Вероятность убытков в 1 регионе = 1.4 %\n",
      "Вероятность убытков в 2 регионе = 8.7 %\n"
     ]
    }
   ],
   "source": [
    "for i, y in zip([x0, x1, x2], ['0', '1', '2']):\n",
    "    print(f'Вероятность убытков в {y} регионе = {round((i<CRITICAL).mean()*100, 3)} %')"
   ]
  },
  {
   "cell_type": "markdown",
   "metadata": {},
   "source": [
    "### 95% доверительный интервал "
   ]
  },
  {
   "cell_type": "code",
   "execution_count": 26,
   "metadata": {},
   "outputs": [
    {
     "name": "stdout",
     "output_type": "stream",
     "text": [
      "95% доверительный интревал 0 го региона -142174410.7 - 868141756.0\n",
      "95% доверительный интревал 1 го региона 41663908.36 - 825134561.7\n",
      "95% доверительный интревал 2 го региона -167243264.0 - 888362423.6\n"
     ]
    }
   ],
   "source": [
    "for i,y in zip([x0, x1, x2], ['0', '1', '2']):\n",
    "    print('95% доверительный интревал',y,'го региона {0:.10} - {1:.10}'.format(i.quantile(0.025), i.quantile(0.975)))"
   ]
  },
  {
   "cell_type": "markdown",
   "metadata": {},
   "source": [
    "### Вывод \n",
    "По всем показателям лучше всего показывает себя 1ый регион. Это как раз связано с тем, что ML модель хорошо обучилась на первом регионе и она чаще будет определять лучшие месторождения "
   ]
  },
  {
   "cell_type": "markdown",
   "metadata": {},
   "source": [
    "## Общий вывод "
   ]
  },
  {
   "cell_type": "markdown",
   "metadata": {},
   "source": [
    "Для разработки месторождений предлагается 1 регион.   \n",
    "\n",
    "Причиной выбора 1го региона является:   \n",
    "1) Более высокая средняя прибыль  \n",
    "2) Вероятность понести убытки всего 1.4% против 9.1% и 8.7% \n",
    "\n",
    "По поводу первого региона можно сказать, что в среднем он имеет более низкие запасы нефти(+напоминаю, что там около 4тысяч нефтерождений с менее 10 тыс. бареллей нефти), но он лучше всего нам подходит из-за того, что ML модель в этом регионе с большей вероятностью правильно определяет наилучшие нефтерождения и она очень хорошо отсеивает убыточные.   \n",
    "\n",
    "По поводу ML моделей в других регионах они могут сильно ошибаться с предсказаниеми и мы начнём разрабатывать изначально убыточные нефтерождения. \n",
    "Если будет решено разрабатывать нефтерождения в других регионах (из-за более высоких средних показателей количества нефти), то рекомендуется собрать новые/более качественные данные для обучения ML модели. Иначе вероятность финансовых потерь будет очень высока. "
   ]
  }
 ],
 "metadata": {
  "ExecuteTimeLog": [
   {
    "duration": 662,
    "start_time": "2022-03-16T17:01:32.500Z"
   },
   {
    "duration": 431,
    "start_time": "2022-03-16T17:02:23.650Z"
   },
   {
    "duration": 22,
    "start_time": "2022-03-16T17:02:30.931Z"
   },
   {
    "duration": 12,
    "start_time": "2022-03-16T17:02:56.080Z"
   },
   {
    "duration": 13,
    "start_time": "2022-03-16T17:03:01.415Z"
   },
   {
    "duration": 73,
    "start_time": "2022-03-16T17:03:42.805Z"
   },
   {
    "duration": 62,
    "start_time": "2022-03-16T17:03:55.420Z"
   },
   {
    "duration": 63,
    "start_time": "2022-03-16T17:04:17.880Z"
   },
   {
    "duration": 59,
    "start_time": "2022-03-16T17:04:26.505Z"
   },
   {
    "duration": 62,
    "start_time": "2022-03-16T17:04:35.662Z"
   },
   {
    "duration": 5,
    "start_time": "2022-03-16T17:06:43.213Z"
   },
   {
    "duration": 5,
    "start_time": "2022-03-16T17:06:51.081Z"
   },
   {
    "duration": 5,
    "start_time": "2022-03-16T17:06:56.806Z"
   },
   {
    "duration": 29,
    "start_time": "2022-03-16T17:07:16.876Z"
   },
   {
    "duration": 20,
    "start_time": "2022-03-16T17:07:33.656Z"
   },
   {
    "duration": 21,
    "start_time": "2022-03-16T17:07:47.991Z"
   },
   {
    "duration": 20,
    "start_time": "2022-03-16T17:07:52.550Z"
   },
   {
    "duration": 31,
    "start_time": "2022-03-16T17:08:09.121Z"
   },
   {
    "duration": 247,
    "start_time": "2022-03-16T17:08:16.521Z"
   },
   {
    "duration": 176,
    "start_time": "2022-03-16T17:08:21.971Z"
   },
   {
    "duration": 165,
    "start_time": "2022-03-16T17:08:27.250Z"
   },
   {
    "duration": 162,
    "start_time": "2022-03-16T17:08:31.535Z"
   },
   {
    "duration": 29,
    "start_time": "2022-03-16T17:08:39.190Z"
   },
   {
    "duration": 18,
    "start_time": "2022-03-16T17:08:57.561Z"
   },
   {
    "duration": 74,
    "start_time": "2022-03-16T17:09:43.385Z"
   },
   {
    "duration": 36,
    "start_time": "2022-03-16T17:10:20.610Z"
   },
   {
    "duration": 168,
    "start_time": "2022-03-16T17:10:37.530Z"
   },
   {
    "duration": 39,
    "start_time": "2022-03-16T17:10:39.801Z"
   },
   {
    "duration": 40,
    "start_time": "2022-03-16T17:11:18.071Z"
   },
   {
    "duration": 36,
    "start_time": "2022-03-16T17:11:50.330Z"
   },
   {
    "duration": 155,
    "start_time": "2022-03-16T17:12:43.045Z"
   },
   {
    "duration": 5,
    "start_time": "2022-03-16T17:12:54.801Z"
   },
   {
    "duration": 13,
    "start_time": "2022-03-16T17:15:31.205Z"
   },
   {
    "duration": 17,
    "start_time": "2022-03-16T17:15:40.790Z"
   },
   {
    "duration": 17,
    "start_time": "2022-03-16T17:15:52.401Z"
   },
   {
    "duration": 9,
    "start_time": "2022-03-16T17:24:51.790Z"
   },
   {
    "duration": 13,
    "start_time": "2022-03-16T17:24:57.150Z"
   },
   {
    "duration": 13,
    "start_time": "2022-03-16T17:25:17.341Z"
   },
   {
    "duration": 14,
    "start_time": "2022-03-16T17:26:17.200Z"
   },
   {
    "duration": 4,
    "start_time": "2022-03-16T17:36:01.911Z"
   },
   {
    "duration": 68,
    "start_time": "2022-03-16T17:37:01.926Z"
   },
   {
    "duration": 48,
    "start_time": "2022-03-16T17:38:34.216Z"
   },
   {
    "duration": 6,
    "start_time": "2022-03-16T17:38:44.700Z"
   },
   {
    "duration": 6,
    "start_time": "2022-03-16T17:38:58.535Z"
   },
   {
    "duration": 42,
    "start_time": "2022-03-16T17:59:15.641Z"
   },
   {
    "duration": 91,
    "start_time": "2022-03-16T17:59:30.400Z"
   },
   {
    "duration": 104,
    "start_time": "2022-03-16T17:59:49.531Z"
   },
   {
    "duration": 5,
    "start_time": "2022-03-16T18:07:49.000Z"
   },
   {
    "duration": 28,
    "start_time": "2022-03-16T18:07:53.031Z"
   },
   {
    "duration": 228,
    "start_time": "2022-03-16T18:08:06.040Z"
   },
   {
    "duration": 166,
    "start_time": "2022-03-16T18:08:21.010Z"
   },
   {
    "duration": 167,
    "start_time": "2022-03-16T18:08:55.990Z"
   },
   {
    "duration": 4,
    "start_time": "2022-03-16T18:09:25.523Z"
   },
   {
    "duration": 1493,
    "start_time": "2022-03-16T18:09:32.939Z"
   },
   {
    "duration": 495,
    "start_time": "2022-03-16T18:09:36.000Z"
   },
   {
    "duration": 24,
    "start_time": "2022-03-16T18:09:39.489Z"
   },
   {
    "duration": 14,
    "start_time": "2022-03-16T18:09:40.283Z"
   },
   {
    "duration": 16,
    "start_time": "2022-03-16T18:09:40.799Z"
   },
   {
    "duration": 7,
    "start_time": "2022-03-16T18:09:43.839Z"
   },
   {
    "duration": 7,
    "start_time": "2022-03-16T18:09:44.353Z"
   },
   {
    "duration": 7,
    "start_time": "2022-03-16T18:09:44.848Z"
   },
   {
    "duration": 51,
    "start_time": "2022-03-16T18:09:52.053Z"
   },
   {
    "duration": 49,
    "start_time": "2022-03-16T18:09:52.684Z"
   },
   {
    "duration": 42,
    "start_time": "2022-03-16T18:09:53.285Z"
   },
   {
    "duration": 12,
    "start_time": "2022-03-16T18:09:56.203Z"
   },
   {
    "duration": 15,
    "start_time": "2022-03-16T18:09:56.693Z"
   },
   {
    "duration": 19,
    "start_time": "2022-03-16T18:09:57.094Z"
   },
   {
    "duration": 20,
    "start_time": "2022-03-16T18:09:59.455Z"
   },
   {
    "duration": 63,
    "start_time": "2022-03-16T18:10:00.294Z"
   },
   {
    "duration": 149,
    "start_time": "2022-03-16T18:10:02.604Z"
   },
   {
    "duration": 39,
    "start_time": "2022-03-16T18:10:07.803Z"
   },
   {
    "duration": 7,
    "start_time": "2022-03-16T18:10:16.604Z"
   },
   {
    "duration": 7,
    "start_time": "2022-03-16T18:10:24.073Z"
   },
   {
    "duration": 8,
    "start_time": "2022-03-16T18:10:28.604Z"
   },
   {
    "duration": 7,
    "start_time": "2022-03-16T18:11:18.794Z"
   },
   {
    "duration": 5,
    "start_time": "2022-03-16T18:11:22.174Z"
   },
   {
    "duration": 7,
    "start_time": "2022-03-16T18:11:27.889Z"
   },
   {
    "duration": 1297,
    "start_time": "2022-03-16T18:15:01.372Z"
   },
   {
    "duration": 462,
    "start_time": "2022-03-16T18:15:03.178Z"
   },
   {
    "duration": 24,
    "start_time": "2022-03-16T18:15:04.948Z"
   },
   {
    "duration": 14,
    "start_time": "2022-03-16T18:15:05.477Z"
   },
   {
    "duration": 14,
    "start_time": "2022-03-16T18:15:05.877Z"
   },
   {
    "duration": 6,
    "start_time": "2022-03-16T18:15:07.947Z"
   },
   {
    "duration": 6,
    "start_time": "2022-03-16T18:15:08.303Z"
   },
   {
    "duration": 5,
    "start_time": "2022-03-16T18:15:08.692Z"
   },
   {
    "duration": 49,
    "start_time": "2022-03-16T18:15:09.962Z"
   },
   {
    "duration": 43,
    "start_time": "2022-03-16T18:15:11.817Z"
   },
   {
    "duration": 44,
    "start_time": "2022-03-16T18:15:13.677Z"
   },
   {
    "duration": 15,
    "start_time": "2022-03-16T18:15:21.207Z"
   },
   {
    "duration": 15,
    "start_time": "2022-03-16T18:15:21.642Z"
   },
   {
    "duration": 13,
    "start_time": "2022-03-16T18:15:21.992Z"
   },
   {
    "duration": 15,
    "start_time": "2022-03-16T18:15:24.538Z"
   },
   {
    "duration": 67,
    "start_time": "2022-03-16T18:15:27.198Z"
   },
   {
    "duration": 143,
    "start_time": "2022-03-16T18:15:29.717Z"
   },
   {
    "duration": 10,
    "start_time": "2022-03-16T18:17:00.298Z"
   },
   {
    "duration": 15,
    "start_time": "2022-03-16T18:17:06.477Z"
   },
   {
    "duration": 4609,
    "start_time": "2022-03-16T18:17:55.688Z"
   },
   {
    "duration": 4147,
    "start_time": "2022-03-16T18:18:41.907Z"
   },
   {
    "duration": 176,
    "start_time": "2022-03-16T18:18:48.358Z"
   },
   {
    "duration": 8,
    "start_time": "2022-03-16T18:19:07.357Z"
   },
   {
    "duration": 5,
    "start_time": "2022-03-16T18:19:24.702Z"
   },
   {
    "duration": 8,
    "start_time": "2022-03-16T18:19:35.413Z"
   },
   {
    "duration": 9,
    "start_time": "2022-03-16T18:19:37.444Z"
   },
   {
    "duration": 21,
    "start_time": "2022-03-16T18:19:42.429Z"
   },
   {
    "duration": 203,
    "start_time": "2022-03-16T18:19:56.592Z"
   },
   {
    "duration": 20,
    "start_time": "2022-03-16T18:20:02.577Z"
   },
   {
    "duration": 6,
    "start_time": "2022-03-16T18:20:08.907Z"
   },
   {
    "duration": 4079,
    "start_time": "2022-03-16T18:20:25.627Z"
   },
   {
    "duration": 15,
    "start_time": "2022-03-16T18:21:03.247Z"
   },
   {
    "duration": 17,
    "start_time": "2022-03-16T18:21:43.963Z"
   },
   {
    "duration": 38,
    "start_time": "2022-03-16T18:21:45.553Z"
   },
   {
    "duration": 14,
    "start_time": "2022-03-16T18:22:00.443Z"
   },
   {
    "duration": 24,
    "start_time": "2022-03-16T18:22:02.057Z"
   },
   {
    "duration": 36,
    "start_time": "2022-03-16T18:22:07.537Z"
   },
   {
    "duration": 15,
    "start_time": "2022-03-16T18:22:46.358Z"
   },
   {
    "duration": 33,
    "start_time": "2022-03-16T18:22:47.387Z"
   },
   {
    "duration": 26,
    "start_time": "2022-03-16T18:22:52.347Z"
   },
   {
    "duration": 11,
    "start_time": "2022-03-16T18:23:05.277Z"
   },
   {
    "duration": 16,
    "start_time": "2022-03-16T18:23:07.352Z"
   },
   {
    "duration": 8,
    "start_time": "2022-03-16T18:23:43.562Z"
   },
   {
    "duration": 15,
    "start_time": "2022-03-16T18:23:45.937Z"
   },
   {
    "duration": 4786,
    "start_time": "2022-03-16T18:24:09.468Z"
   },
   {
    "duration": 4893,
    "start_time": "2022-03-16T18:24:28.868Z"
   },
   {
    "duration": 1273,
    "start_time": "2022-03-16T18:24:37.402Z"
   },
   {
    "duration": 4421,
    "start_time": "2022-03-16T18:24:45.512Z"
   },
   {
    "duration": 15,
    "start_time": "2022-03-16T18:25:15.562Z"
   },
   {
    "duration": 9,
    "start_time": "2022-03-16T18:25:36.063Z"
   },
   {
    "duration": 15,
    "start_time": "2022-03-16T18:25:47.729Z"
   },
   {
    "duration": 179,
    "start_time": "2022-03-16T18:26:01.962Z"
   },
   {
    "duration": 12,
    "start_time": "2022-03-16T18:26:09.558Z"
   },
   {
    "duration": 22,
    "start_time": "2022-03-16T18:29:09.609Z"
   },
   {
    "duration": 26,
    "start_time": "2022-03-16T18:29:34.779Z"
   },
   {
    "duration": 1413,
    "start_time": "2022-03-16T21:42:51.489Z"
   },
   {
    "duration": 573,
    "start_time": "2022-03-16T21:42:52.904Z"
   },
   {
    "duration": 23,
    "start_time": "2022-03-16T21:42:53.480Z"
   },
   {
    "duration": 12,
    "start_time": "2022-03-16T21:42:53.506Z"
   },
   {
    "duration": 15,
    "start_time": "2022-03-16T21:42:53.520Z"
   },
   {
    "duration": 38,
    "start_time": "2022-03-16T21:42:53.537Z"
   },
   {
    "duration": 6,
    "start_time": "2022-03-16T21:42:53.577Z"
   },
   {
    "duration": 7,
    "start_time": "2022-03-16T21:42:53.587Z"
   },
   {
    "duration": 82,
    "start_time": "2022-03-16T21:42:53.596Z"
   },
   {
    "duration": 45,
    "start_time": "2022-03-16T21:42:53.681Z"
   },
   {
    "duration": 64,
    "start_time": "2022-03-16T21:42:53.731Z"
   },
   {
    "duration": 15,
    "start_time": "2022-03-16T21:42:56.199Z"
   },
   {
    "duration": 14,
    "start_time": "2022-03-16T21:42:56.369Z"
   },
   {
    "duration": 18,
    "start_time": "2022-03-16T21:42:56.539Z"
   },
   {
    "duration": 20,
    "start_time": "2022-03-16T21:42:56.690Z"
   },
   {
    "duration": 70,
    "start_time": "2022-03-16T21:42:58.110Z"
   },
   {
    "duration": 142,
    "start_time": "2022-03-16T21:42:58.440Z"
   },
   {
    "duration": 15,
    "start_time": "2022-03-16T21:43:00.779Z"
   },
   {
    "duration": 388,
    "start_time": "2022-03-16T21:43:11.310Z"
   },
   {
    "duration": 11,
    "start_time": "2022-03-16T21:43:13.784Z"
   },
   {
    "duration": 5,
    "start_time": "2022-03-16T22:30:54.360Z"
   },
   {
    "duration": 1879,
    "start_time": "2022-03-16T22:31:19.111Z"
   },
   {
    "duration": 494,
    "start_time": "2022-03-16T22:31:20.993Z"
   },
   {
    "duration": 23,
    "start_time": "2022-03-16T22:31:21.493Z"
   },
   {
    "duration": 17,
    "start_time": "2022-03-16T22:31:21.518Z"
   },
   {
    "duration": 43,
    "start_time": "2022-03-16T22:31:21.537Z"
   },
   {
    "duration": 9,
    "start_time": "2022-03-16T22:31:21.583Z"
   },
   {
    "duration": 6,
    "start_time": "2022-03-16T22:31:21.595Z"
   },
   {
    "duration": 7,
    "start_time": "2022-03-16T22:31:21.603Z"
   },
   {
    "duration": 85,
    "start_time": "2022-03-16T22:31:21.612Z"
   },
   {
    "duration": 49,
    "start_time": "2022-03-16T22:31:21.699Z"
   },
   {
    "duration": 68,
    "start_time": "2022-03-16T22:31:21.750Z"
   },
   {
    "duration": 14,
    "start_time": "2022-03-16T22:31:21.820Z"
   },
   {
    "duration": 42,
    "start_time": "2022-03-16T22:31:21.836Z"
   },
   {
    "duration": 15,
    "start_time": "2022-03-16T22:31:21.880Z"
   },
   {
    "duration": 17,
    "start_time": "2022-03-16T22:31:21.897Z"
   },
   {
    "duration": 80,
    "start_time": "2022-03-16T22:31:21.917Z"
   },
   {
    "duration": 119,
    "start_time": "2022-03-16T22:31:22.000Z"
   },
   {
    "duration": 39,
    "start_time": "2022-03-16T22:32:31.798Z"
   },
   {
    "duration": 6,
    "start_time": "2022-03-16T22:32:41.158Z"
   },
   {
    "duration": 14,
    "start_time": "2022-03-16T22:33:21.738Z"
   },
   {
    "duration": 12,
    "start_time": "2022-03-16T22:33:35.498Z"
   },
   {
    "duration": 14,
    "start_time": "2022-03-16T22:33:42.427Z"
   },
   {
    "duration": 14,
    "start_time": "2022-03-16T22:33:48.697Z"
   },
   {
    "duration": 13,
    "start_time": "2022-03-16T22:33:53.882Z"
   },
   {
    "duration": 8,
    "start_time": "2022-03-16T22:34:01.137Z"
   },
   {
    "duration": 9,
    "start_time": "2022-03-16T22:34:05.632Z"
   },
   {
    "duration": 7,
    "start_time": "2022-03-16T22:34:11.298Z"
   },
   {
    "duration": 6,
    "start_time": "2022-03-16T22:34:15.882Z"
   },
   {
    "duration": 7,
    "start_time": "2022-03-16T22:34:18.032Z"
   },
   {
    "duration": 7,
    "start_time": "2022-03-16T22:34:22.047Z"
   },
   {
    "duration": 8,
    "start_time": "2022-03-16T22:34:24.552Z"
   },
   {
    "duration": 5,
    "start_time": "2022-03-16T22:42:19.122Z"
   },
   {
    "duration": 5,
    "start_time": "2022-03-16T22:47:05.947Z"
   },
   {
    "duration": 66,
    "start_time": "2022-03-16T22:47:45.083Z"
   },
   {
    "duration": 7,
    "start_time": "2022-03-16T22:48:27.538Z"
   },
   {
    "duration": 60,
    "start_time": "2022-03-16T22:53:01.258Z"
   },
   {
    "duration": 51,
    "start_time": "2022-03-16T22:53:08.707Z"
   },
   {
    "duration": 17,
    "start_time": "2022-03-16T22:53:18.837Z"
   },
   {
    "duration": 15,
    "start_time": "2022-03-16T22:54:22.377Z"
   },
   {
    "duration": 16,
    "start_time": "2022-03-16T22:54:33.867Z"
   },
   {
    "duration": 197,
    "start_time": "2022-03-16T22:56:11.983Z"
   },
   {
    "duration": 1559,
    "start_time": "2022-03-17T08:46:36.039Z"
   },
   {
    "duration": 445,
    "start_time": "2022-03-17T08:46:39.487Z"
   },
   {
    "duration": 25,
    "start_time": "2022-03-17T08:46:40.838Z"
   },
   {
    "duration": 14,
    "start_time": "2022-03-17T08:46:42.015Z"
   },
   {
    "duration": 13,
    "start_time": "2022-03-17T08:46:43.158Z"
   },
   {
    "duration": 32,
    "start_time": "2022-03-17T08:47:12.412Z"
   },
   {
    "duration": 138,
    "start_time": "2022-03-17T08:48:46.890Z"
   },
   {
    "duration": 33,
    "start_time": "2022-03-17T08:48:59.880Z"
   },
   {
    "duration": 445,
    "start_time": "2022-03-17T08:50:02.500Z"
   },
   {
    "duration": 57,
    "start_time": "2022-03-17T08:50:58.171Z"
   },
   {
    "duration": 60,
    "start_time": "2022-03-17T08:51:05.760Z"
   },
   {
    "duration": 86,
    "start_time": "2022-03-17T08:51:27.911Z"
   },
   {
    "duration": 62,
    "start_time": "2022-03-17T08:51:49.401Z"
   },
   {
    "duration": 33,
    "start_time": "2022-03-17T08:51:55.823Z"
   },
   {
    "duration": 32,
    "start_time": "2022-03-17T08:52:32.775Z"
   },
   {
    "duration": 15,
    "start_time": "2022-03-17T08:54:25.495Z"
   },
   {
    "duration": 15,
    "start_time": "2022-03-17T08:56:16.865Z"
   },
   {
    "duration": 456,
    "start_time": "2022-03-17T08:58:00.046Z"
   },
   {
    "duration": 13,
    "start_time": "2022-03-17T08:58:02.628Z"
   },
   {
    "duration": 13,
    "start_time": "2022-03-17T08:58:07.021Z"
   },
   {
    "duration": 109,
    "start_time": "2022-03-17T08:58:10.846Z"
   },
   {
    "duration": 41,
    "start_time": "2022-03-17T08:58:15.037Z"
   },
   {
    "duration": 116,
    "start_time": "2022-03-17T09:00:19.383Z"
   },
   {
    "duration": 313,
    "start_time": "2022-03-17T09:00:30.048Z"
   },
   {
    "duration": 46,
    "start_time": "2022-03-17T09:00:35.010Z"
   },
   {
    "duration": 32,
    "start_time": "2022-03-17T09:00:45.841Z"
   },
   {
    "duration": 11,
    "start_time": "2022-03-17T09:03:04.338Z"
   },
   {
    "duration": 4,
    "start_time": "2022-03-17T09:03:10.340Z"
   },
   {
    "duration": 9,
    "start_time": "2022-03-17T09:03:17.280Z"
   },
   {
    "duration": 126,
    "start_time": "2022-03-17T09:03:52.451Z"
   },
   {
    "duration": 33,
    "start_time": "2022-03-17T09:06:20.531Z"
   },
   {
    "duration": 12,
    "start_time": "2022-03-17T09:06:45.141Z"
   },
   {
    "duration": 44,
    "start_time": "2022-03-17T09:06:46.403Z"
   },
   {
    "duration": 215,
    "start_time": "2022-03-17T09:07:11.742Z"
   },
   {
    "duration": 177,
    "start_time": "2022-03-17T09:07:19.363Z"
   },
   {
    "duration": 171,
    "start_time": "2022-03-17T09:07:43.141Z"
   },
   {
    "duration": 1681,
    "start_time": "2022-03-17T09:08:05.956Z"
   },
   {
    "duration": 461,
    "start_time": "2022-03-17T09:08:08.347Z"
   },
   {
    "duration": 41,
    "start_time": "2022-03-17T09:08:09.337Z"
   },
   {
    "duration": 10,
    "start_time": "2022-03-17T09:08:10.147Z"
   },
   {
    "duration": 117,
    "start_time": "2022-03-17T09:08:10.688Z"
   },
   {
    "duration": 32,
    "start_time": "2022-03-17T09:08:11.347Z"
   },
   {
    "duration": 135,
    "start_time": "2022-03-17T09:08:11.948Z"
   },
   {
    "duration": 16,
    "start_time": "2022-03-17T09:10:12.968Z"
   },
   {
    "duration": 43,
    "start_time": "2022-03-17T09:10:14.189Z"
   },
   {
    "duration": 39,
    "start_time": "2022-03-17T09:10:15.009Z"
   },
   {
    "duration": 258,
    "start_time": "2022-03-17T09:10:27.219Z"
   },
   {
    "duration": 18,
    "start_time": "2022-03-17T09:46:00.284Z"
   },
   {
    "duration": 7,
    "start_time": "2022-03-17T09:46:37.538Z"
   },
   {
    "duration": 177,
    "start_time": "2022-03-17T09:46:47.888Z"
   },
   {
    "duration": 13,
    "start_time": "2022-03-17T09:46:50.891Z"
   },
   {
    "duration": 14,
    "start_time": "2022-03-17T09:46:58.458Z"
   },
   {
    "duration": 8,
    "start_time": "2022-03-17T09:47:21.018Z"
   },
   {
    "duration": 7,
    "start_time": "2022-03-17T09:47:29.830Z"
   },
   {
    "duration": 5,
    "start_time": "2022-03-17T09:47:38.702Z"
   },
   {
    "duration": 4,
    "start_time": "2022-03-17T10:00:17.131Z"
   },
   {
    "duration": 547,
    "start_time": "2022-03-17T10:00:17.311Z"
   },
   {
    "duration": 49,
    "start_time": "2022-03-17T10:00:17.861Z"
   },
   {
    "duration": 9,
    "start_time": "2022-03-17T10:00:17.912Z"
   },
   {
    "duration": 208,
    "start_time": "2022-03-17T10:00:17.927Z"
   },
   {
    "duration": 1809,
    "start_time": "2022-03-17T10:00:27.249Z"
   },
   {
    "duration": 471,
    "start_time": "2022-03-17T10:00:29.060Z"
   },
   {
    "duration": 52,
    "start_time": "2022-03-17T10:00:29.533Z"
   },
   {
    "duration": 8,
    "start_time": "2022-03-17T10:00:29.587Z"
   },
   {
    "duration": 143,
    "start_time": "2022-03-17T10:00:29.597Z"
   },
   {
    "duration": 33,
    "start_time": "2022-03-17T10:00:30.009Z"
   },
   {
    "duration": 137,
    "start_time": "2022-03-17T10:00:31.264Z"
   },
   {
    "duration": 12,
    "start_time": "2022-03-17T10:00:31.403Z"
   },
   {
    "duration": 1583,
    "start_time": "2022-03-17T10:06:59.809Z"
   },
   {
    "duration": 516,
    "start_time": "2022-03-17T10:07:01.396Z"
   },
   {
    "duration": 45,
    "start_time": "2022-03-17T10:07:01.914Z"
   },
   {
    "duration": 9,
    "start_time": "2022-03-17T10:07:01.985Z"
   },
   {
    "duration": 188,
    "start_time": "2022-03-17T10:07:02.252Z"
   },
   {
    "duration": 32,
    "start_time": "2022-03-17T10:07:02.740Z"
   },
   {
    "duration": 175,
    "start_time": "2022-03-17T10:07:03.439Z"
   },
   {
    "duration": 20,
    "start_time": "2022-03-17T10:07:04.081Z"
   },
   {
    "duration": 52,
    "start_time": "2022-03-17T10:07:04.690Z"
   },
   {
    "duration": 51,
    "start_time": "2022-03-17T10:07:05.378Z"
   },
   {
    "duration": 206,
    "start_time": "2022-03-17T10:07:06.501Z"
   },
   {
    "duration": 8,
    "start_time": "2022-03-17T10:07:10.378Z"
   },
   {
    "duration": 6,
    "start_time": "2022-03-17T10:07:11.012Z"
   },
   {
    "duration": 5,
    "start_time": "2022-03-17T10:07:11.510Z"
   },
   {
    "duration": 17,
    "start_time": "2022-03-17T10:09:17.300Z"
   },
   {
    "duration": 16,
    "start_time": "2022-03-17T10:09:58.421Z"
   },
   {
    "duration": 116,
    "start_time": "2022-03-17T10:10:37.170Z"
   },
   {
    "duration": 17,
    "start_time": "2022-03-17T10:15:06.517Z"
   },
   {
    "duration": 8,
    "start_time": "2022-03-17T10:16:57.089Z"
   },
   {
    "duration": 15,
    "start_time": "2022-03-17T10:17:05.337Z"
   },
   {
    "duration": 16,
    "start_time": "2022-03-17T10:17:26.177Z"
   },
   {
    "duration": 1218,
    "start_time": "2022-03-17T22:47:55.055Z"
   },
   {
    "duration": 378,
    "start_time": "2022-03-17T22:47:57.286Z"
   },
   {
    "duration": 27,
    "start_time": "2022-03-17T22:47:58.576Z"
   },
   {
    "duration": 6,
    "start_time": "2022-03-17T22:48:04.736Z"
   },
   {
    "duration": 90,
    "start_time": "2022-03-17T22:48:06.495Z"
   },
   {
    "duration": 24,
    "start_time": "2022-03-17T22:48:17.245Z"
   },
   {
    "duration": 97,
    "start_time": "2022-03-17T22:48:19.931Z"
   },
   {
    "duration": 10,
    "start_time": "2022-03-17T22:48:39.945Z"
   },
   {
    "duration": 40,
    "start_time": "2022-03-17T22:48:40.905Z"
   },
   {
    "duration": 27,
    "start_time": "2022-03-17T22:48:41.855Z"
   },
   {
    "duration": 148,
    "start_time": "2022-03-17T22:48:44.290Z"
   },
   {
    "duration": 6,
    "start_time": "2022-03-17T22:50:32.725Z"
   },
   {
    "duration": 11,
    "start_time": "2022-03-17T22:50:38.041Z"
   },
   {
    "duration": 7,
    "start_time": "2022-03-17T22:50:48.015Z"
   },
   {
    "duration": 88,
    "start_time": "2022-03-17T22:52:43.491Z"
   },
   {
    "duration": 4,
    "start_time": "2022-03-17T22:52:55.856Z"
   },
   {
    "duration": 10,
    "start_time": "2022-03-17T22:53:00.305Z"
   },
   {
    "duration": 4,
    "start_time": "2022-03-17T22:53:55.766Z"
   },
   {
    "duration": 13,
    "start_time": "2022-03-17T22:54:37.166Z"
   },
   {
    "duration": 3,
    "start_time": "2022-03-17T22:55:51.966Z"
   },
   {
    "duration": 10,
    "start_time": "2022-03-17T22:55:54.195Z"
   },
   {
    "duration": 9,
    "start_time": "2022-03-17T22:55:59.955Z"
   },
   {
    "duration": 3,
    "start_time": "2022-03-17T22:56:02.606Z"
   },
   {
    "duration": 12,
    "start_time": "2022-03-17T22:56:05.065Z"
   },
   {
    "duration": 4,
    "start_time": "2022-03-17T22:56:09.075Z"
   },
   {
    "duration": 13,
    "start_time": "2022-03-17T22:56:10.705Z"
   },
   {
    "duration": 9,
    "start_time": "2022-03-17T22:56:25.445Z"
   },
   {
    "duration": 5,
    "start_time": "2022-03-17T22:56:33.566Z"
   },
   {
    "duration": 8,
    "start_time": "2022-03-17T22:57:52.575Z"
   },
   {
    "duration": 11,
    "start_time": "2022-03-17T22:57:54.760Z"
   },
   {
    "duration": 9,
    "start_time": "2022-03-17T22:58:20.096Z"
   },
   {
    "duration": 15,
    "start_time": "2022-03-17T22:59:14.026Z"
   },
   {
    "duration": 4,
    "start_time": "2022-03-17T23:05:00.130Z"
   },
   {
    "duration": 3,
    "start_time": "2022-03-17T23:09:23.726Z"
   },
   {
    "duration": 11,
    "start_time": "2022-03-17T23:19:59.335Z"
   },
   {
    "duration": 12,
    "start_time": "2022-03-17T23:20:26.910Z"
   },
   {
    "duration": 11,
    "start_time": "2022-03-17T23:20:33.380Z"
   },
   {
    "duration": 10,
    "start_time": "2022-03-17T23:21:12.050Z"
   },
   {
    "duration": 7,
    "start_time": "2022-03-17T23:21:20.625Z"
   },
   {
    "duration": 4,
    "start_time": "2022-03-17T23:27:51.107Z"
   },
   {
    "duration": 5,
    "start_time": "2022-03-18T00:09:12.044Z"
   },
   {
    "duration": 1573,
    "start_time": "2022-03-19T08:46:08.623Z"
   },
   {
    "duration": 530,
    "start_time": "2022-03-19T08:46:10.199Z"
   },
   {
    "duration": 46,
    "start_time": "2022-03-19T08:46:11.005Z"
   },
   {
    "duration": 10,
    "start_time": "2022-03-19T08:46:11.573Z"
   },
   {
    "duration": 115,
    "start_time": "2022-03-19T08:46:12.124Z"
   },
   {
    "duration": 52,
    "start_time": "2022-03-19T08:46:12.924Z"
   },
   {
    "duration": 195,
    "start_time": "2022-03-19T08:46:13.533Z"
   },
   {
    "duration": 13,
    "start_time": "2022-03-19T08:46:14.314Z"
   },
   {
    "duration": 43,
    "start_time": "2022-03-19T08:46:14.916Z"
   },
   {
    "duration": 36,
    "start_time": "2022-03-19T08:46:15.573Z"
   },
   {
    "duration": 127,
    "start_time": "2022-03-19T08:46:16.660Z"
   },
   {
    "duration": 20,
    "start_time": "2022-03-19T08:46:17.448Z"
   },
   {
    "duration": 24,
    "start_time": "2022-03-19T08:46:18.055Z"
   },
   {
    "duration": 4,
    "start_time": "2022-03-19T08:46:19.783Z"
   },
   {
    "duration": 8,
    "start_time": "2022-03-19T08:46:20.595Z"
   },
   {
    "duration": 4,
    "start_time": "2022-03-19T08:46:21.212Z"
   },
   {
    "duration": 10,
    "start_time": "2022-03-19T08:52:23.056Z"
   },
   {
    "duration": 16,
    "start_time": "2022-03-19T08:53:53.613Z"
   },
   {
    "duration": 16,
    "start_time": "2022-03-19T08:54:03.716Z"
   },
   {
    "duration": 3280,
    "start_time": "2022-03-19T08:55:02.133Z"
   },
   {
    "duration": 7,
    "start_time": "2022-03-19T08:55:10.636Z"
   },
   {
    "duration": 135,
    "start_time": "2022-03-19T08:55:16.483Z"
   },
   {
    "duration": 14,
    "start_time": "2022-03-19T08:55:21.195Z"
   },
   {
    "duration": 13,
    "start_time": "2022-03-19T08:55:51.584Z"
   },
   {
    "duration": 5,
    "start_time": "2022-03-19T08:56:08.407Z"
   },
   {
    "duration": 6,
    "start_time": "2022-03-19T08:56:16.204Z"
   },
   {
    "duration": 11,
    "start_time": "2022-03-19T09:03:32.135Z"
   },
   {
    "duration": 13,
    "start_time": "2022-03-19T09:04:26.695Z"
   },
   {
    "duration": 12,
    "start_time": "2022-03-19T09:04:33.908Z"
   },
   {
    "duration": 18,
    "start_time": "2022-03-19T09:04:40.970Z"
   },
   {
    "duration": 25,
    "start_time": "2022-03-19T09:04:47.489Z"
   },
   {
    "duration": 18,
    "start_time": "2022-03-19T09:05:02.621Z"
   },
   {
    "duration": 19,
    "start_time": "2022-03-19T09:05:14.695Z"
   },
   {
    "duration": 17,
    "start_time": "2022-03-19T09:05:26.430Z"
   },
   {
    "duration": 20,
    "start_time": "2022-03-19T09:05:38.399Z"
   },
   {
    "duration": 18,
    "start_time": "2022-03-19T09:05:44.546Z"
   },
   {
    "duration": 12,
    "start_time": "2022-03-19T09:06:29.036Z"
   },
   {
    "duration": 12,
    "start_time": "2022-03-19T09:06:53.667Z"
   },
   {
    "duration": 11,
    "start_time": "2022-03-19T09:07:01.929Z"
   },
   {
    "duration": 11,
    "start_time": "2022-03-19T09:07:04.159Z"
   },
   {
    "duration": 12,
    "start_time": "2022-03-19T09:21:16.855Z"
   },
   {
    "duration": 6,
    "start_time": "2022-03-19T09:21:27.950Z"
   },
   {
    "duration": 13,
    "start_time": "2022-03-19T09:37:49.848Z"
   },
   {
    "duration": 12,
    "start_time": "2022-03-19T09:38:00.606Z"
   },
   {
    "duration": 14,
    "start_time": "2022-03-19T09:38:26.977Z"
   },
   {
    "duration": 12,
    "start_time": "2022-03-19T09:38:36.696Z"
   },
   {
    "duration": 12,
    "start_time": "2022-03-19T09:39:00.939Z"
   },
   {
    "duration": 11,
    "start_time": "2022-03-19T09:39:03.611Z"
   },
   {
    "duration": 15,
    "start_time": "2022-03-19T09:39:15.076Z"
   },
   {
    "duration": 5,
    "start_time": "2022-03-19T09:49:23.852Z"
   },
   {
    "duration": 5,
    "start_time": "2022-03-19T09:49:26.142Z"
   },
   {
    "duration": 4,
    "start_time": "2022-03-19T09:49:29.202Z"
   },
   {
    "duration": 6,
    "start_time": "2022-03-19T09:49:31.532Z"
   },
   {
    "duration": 25,
    "start_time": "2022-03-19T09:49:52.836Z"
   },
   {
    "duration": 14,
    "start_time": "2022-03-19T09:50:43.330Z"
   },
   {
    "duration": 5,
    "start_time": "2022-03-19T09:53:22.019Z"
   },
   {
    "duration": 20,
    "start_time": "2022-03-19T09:53:40.758Z"
   },
   {
    "duration": 14,
    "start_time": "2022-03-19T09:54:02.299Z"
   },
   {
    "duration": 6,
    "start_time": "2022-03-19T09:54:14.559Z"
   },
   {
    "duration": 14,
    "start_time": "2022-03-19T09:55:21.398Z"
   },
   {
    "duration": 14,
    "start_time": "2022-03-19T09:55:44.793Z"
   },
   {
    "duration": 5,
    "start_time": "2022-03-19T09:56:17.158Z"
   },
   {
    "duration": 21,
    "start_time": "2022-03-19T09:56:43.329Z"
   },
   {
    "duration": 23,
    "start_time": "2022-03-19T09:58:32.358Z"
   },
   {
    "duration": 21,
    "start_time": "2022-03-19T09:58:35.289Z"
   },
   {
    "duration": 21,
    "start_time": "2022-03-19T09:59:28.292Z"
   },
   {
    "duration": 5,
    "start_time": "2022-03-19T10:01:02.680Z"
   },
   {
    "duration": 691,
    "start_time": "2022-03-19T10:01:11.852Z"
   },
   {
    "duration": 722,
    "start_time": "2022-03-19T10:01:17.851Z"
   },
   {
    "duration": 5,
    "start_time": "2022-03-19T10:01:26.725Z"
   },
   {
    "duration": 717,
    "start_time": "2022-03-19T10:01:28.841Z"
   },
   {
    "duration": 667,
    "start_time": "2022-03-19T10:01:31.929Z"
   },
   {
    "duration": 3,
    "start_time": "2022-03-19T10:04:52.830Z"
   },
   {
    "duration": 33,
    "start_time": "2022-03-19T10:05:00.766Z"
   },
   {
    "duration": 33,
    "start_time": "2022-03-19T10:05:05.078Z"
   },
   {
    "duration": 6787,
    "start_time": "2022-03-19T10:05:09.110Z"
   },
   {
    "duration": 13,
    "start_time": "2022-03-19T10:08:31.279Z"
   },
   {
    "duration": 31,
    "start_time": "2022-03-19T10:09:00.595Z"
   },
   {
    "duration": 6933,
    "start_time": "2022-03-19T10:09:05.279Z"
   },
   {
    "duration": 6984,
    "start_time": "2022-03-19T10:23:42.490Z"
   },
   {
    "duration": 30,
    "start_time": "2022-03-19T10:24:00.673Z"
   },
   {
    "duration": 5,
    "start_time": "2022-03-19T10:24:11.576Z"
   },
   {
    "duration": 20,
    "start_time": "2022-03-19T10:24:15.612Z"
   },
   {
    "duration": 19,
    "start_time": "2022-03-19T10:24:18.912Z"
   },
   {
    "duration": 10,
    "start_time": "2022-03-19T10:24:39.592Z"
   },
   {
    "duration": 13,
    "start_time": "2022-03-19T10:24:42.992Z"
   },
   {
    "duration": 11,
    "start_time": "2022-03-19T10:24:46.608Z"
   },
   {
    "duration": 13,
    "start_time": "2022-03-19T10:25:18.767Z"
   },
   {
    "duration": 12,
    "start_time": "2022-03-19T10:25:33.471Z"
   },
   {
    "duration": 16,
    "start_time": "2022-03-19T10:25:40.752Z"
   },
   {
    "duration": 10,
    "start_time": "2022-03-19T10:25:52.207Z"
   },
   {
    "duration": 8,
    "start_time": "2022-03-19T10:26:00.361Z"
   },
   {
    "duration": 4,
    "start_time": "2022-03-19T10:26:49.416Z"
   },
   {
    "duration": 2019,
    "start_time": "2022-03-19T10:27:00.862Z"
   },
   {
    "duration": 2061,
    "start_time": "2022-03-19T10:27:06.751Z"
   },
   {
    "duration": 694,
    "start_time": "2022-03-19T10:27:09.781Z"
   },
   {
    "duration": 2002,
    "start_time": "2022-03-19T10:27:24.509Z"
   },
   {
    "duration": 21,
    "start_time": "2022-03-19T10:28:36.622Z"
   },
   {
    "duration": 22,
    "start_time": "2022-03-19T10:28:41.281Z"
   },
   {
    "duration": 21,
    "start_time": "2022-03-19T10:28:44.951Z"
   },
   {
    "duration": 4,
    "start_time": "2022-03-19T10:36:20.295Z"
   },
   {
    "duration": 4,
    "start_time": "2022-03-19T10:44:48.804Z"
   },
   {
    "duration": 22,
    "start_time": "2022-03-19T10:44:56.235Z"
   },
   {
    "duration": 20,
    "start_time": "2022-03-19T10:44:58.969Z"
   },
   {
    "duration": 21,
    "start_time": "2022-03-19T10:45:03.737Z"
   },
   {
    "duration": 4,
    "start_time": "2022-03-19T10:45:08.715Z"
   },
   {
    "duration": 26,
    "start_time": "2022-03-19T10:45:13.456Z"
   },
   {
    "duration": 35,
    "start_time": "2022-03-19T10:45:44.406Z"
   },
   {
    "duration": 29,
    "start_time": "2022-03-19T10:45:47.348Z"
   },
   {
    "duration": 4,
    "start_time": "2022-03-19T10:45:56.405Z"
   },
   {
    "duration": 23,
    "start_time": "2022-03-19T10:45:58.377Z"
   },
   {
    "duration": 4,
    "start_time": "2022-03-19T10:46:21.745Z"
   },
   {
    "duration": 661,
    "start_time": "2022-03-19T10:46:28.152Z"
   },
   {
    "duration": 702,
    "start_time": "2022-03-19T10:46:50.705Z"
   },
   {
    "duration": 26,
    "start_time": "2022-03-19T10:47:03.845Z"
   },
   {
    "duration": 13,
    "start_time": "2022-03-19T10:54:20.206Z"
   },
   {
    "duration": 14,
    "start_time": "2022-03-19T10:54:28.463Z"
   },
   {
    "duration": 14,
    "start_time": "2022-03-19T10:54:36.883Z"
   },
   {
    "duration": 18,
    "start_time": "2022-03-19T10:54:57.782Z"
   },
   {
    "duration": 12,
    "start_time": "2022-03-19T10:55:14.125Z"
   },
   {
    "duration": 14,
    "start_time": "2022-03-19T10:55:26.315Z"
   },
   {
    "duration": 10,
    "start_time": "2022-03-19T10:55:31.234Z"
   },
   {
    "duration": 10,
    "start_time": "2022-03-19T10:56:39.195Z"
   },
   {
    "duration": 8,
    "start_time": "2022-03-19T10:57:44.275Z"
   },
   {
    "duration": 23,
    "start_time": "2022-03-19T10:58:22.956Z"
   },
   {
    "duration": 1413,
    "start_time": "2022-03-19T11:03:50.232Z"
   },
   {
    "duration": 1316,
    "start_time": "2022-03-19T11:04:16.125Z"
   },
   {
    "duration": 14,
    "start_time": "2022-03-19T11:04:21.754Z"
   },
   {
    "duration": 14,
    "start_time": "2022-03-19T11:05:55.925Z"
   },
   {
    "duration": 5,
    "start_time": "2022-03-19T11:07:23.112Z"
   },
   {
    "duration": 14,
    "start_time": "2022-03-19T11:07:37.560Z"
   },
   {
    "duration": 24,
    "start_time": "2022-03-19T11:07:42.204Z"
   },
   {
    "duration": 21,
    "start_time": "2022-03-19T11:07:48.992Z"
   },
   {
    "duration": 26,
    "start_time": "2022-03-19T11:07:53.222Z"
   },
   {
    "duration": 20,
    "start_time": "2022-03-19T11:08:49.212Z"
   },
   {
    "duration": 5,
    "start_time": "2022-03-19T11:08:56.091Z"
   },
   {
    "duration": 20,
    "start_time": "2022-03-19T11:08:58.525Z"
   },
   {
    "duration": 30,
    "start_time": "2022-03-19T11:12:17.356Z"
   },
   {
    "duration": 5,
    "start_time": "2022-03-19T11:13:18.312Z"
   },
   {
    "duration": 89,
    "start_time": "2022-03-19T11:13:30.303Z"
   },
   {
    "duration": 12,
    "start_time": "2022-03-19T11:13:39.193Z"
   },
   {
    "duration": 12,
    "start_time": "2022-03-19T11:13:44.635Z"
   },
   {
    "duration": 31,
    "start_time": "2022-03-19T11:13:49.095Z"
   },
   {
    "duration": 5,
    "start_time": "2022-03-19T11:14:25.828Z"
   },
   {
    "duration": 5,
    "start_time": "2022-03-19T11:15:10.272Z"
   },
   {
    "duration": 33,
    "start_time": "2022-03-19T11:15:29.660Z"
   },
   {
    "duration": 16,
    "start_time": "2022-03-19T11:16:47.462Z"
   },
   {
    "duration": 4,
    "start_time": "2022-03-19T11:16:53.635Z"
   },
   {
    "duration": 25,
    "start_time": "2022-03-19T11:17:03.145Z"
   },
   {
    "duration": 17,
    "start_time": "2022-03-19T11:17:23.752Z"
   },
   {
    "duration": 12,
    "start_time": "2022-03-19T11:17:30.432Z"
   },
   {
    "duration": 12,
    "start_time": "2022-03-19T11:17:42.313Z"
   },
   {
    "duration": 19,
    "start_time": "2022-03-19T11:17:47.632Z"
   },
   {
    "duration": 5,
    "start_time": "2022-03-19T11:17:52.990Z"
   },
   {
    "duration": 11,
    "start_time": "2022-03-19T11:18:00.250Z"
   },
   {
    "duration": 20,
    "start_time": "2022-03-19T11:18:03.380Z"
   },
   {
    "duration": 12,
    "start_time": "2022-03-19T11:18:30.112Z"
   },
   {
    "duration": 11,
    "start_time": "2022-03-19T11:18:59.652Z"
   },
   {
    "duration": 17,
    "start_time": "2022-03-19T11:19:25.415Z"
   },
   {
    "duration": 11,
    "start_time": "2022-03-19T11:19:31.175Z"
   },
   {
    "duration": 4,
    "start_time": "2022-03-19T11:19:49.612Z"
   },
   {
    "duration": 11,
    "start_time": "2022-03-19T11:20:00.300Z"
   },
   {
    "duration": 16,
    "start_time": "2022-03-19T11:20:21.726Z"
   },
   {
    "duration": 21,
    "start_time": "2022-03-19T11:21:48.105Z"
   },
   {
    "duration": 11,
    "start_time": "2022-03-19T11:21:59.195Z"
   },
   {
    "duration": 9,
    "start_time": "2022-03-19T11:22:02.016Z"
   },
   {
    "duration": 11,
    "start_time": "2022-03-19T11:22:09.982Z"
   },
   {
    "duration": 4,
    "start_time": "2022-03-19T11:23:06.873Z"
   },
   {
    "duration": 10,
    "start_time": "2022-03-19T11:23:12.441Z"
   },
   {
    "duration": 5,
    "start_time": "2022-03-19T11:23:28.800Z"
   },
   {
    "duration": 18,
    "start_time": "2022-03-19T11:23:39.592Z"
   },
   {
    "duration": 5,
    "start_time": "2022-03-19T11:24:00.239Z"
   },
   {
    "duration": 4,
    "start_time": "2022-03-19T11:24:02.456Z"
   },
   {
    "duration": 5,
    "start_time": "2022-03-19T11:24:13.045Z"
   },
   {
    "duration": 10,
    "start_time": "2022-03-19T11:24:21.886Z"
   },
   {
    "duration": 5,
    "start_time": "2022-03-19T11:25:08.085Z"
   },
   {
    "duration": 1109,
    "start_time": "2022-03-19T11:25:17.745Z"
   },
   {
    "duration": 5,
    "start_time": "2022-03-19T11:25:27.032Z"
   },
   {
    "duration": 1091,
    "start_time": "2022-03-19T11:25:31.265Z"
   },
   {
    "duration": 5,
    "start_time": "2022-03-19T11:25:37.702Z"
   },
   {
    "duration": 1113,
    "start_time": "2022-03-19T11:25:39.751Z"
   },
   {
    "duration": 1107,
    "start_time": "2022-03-19T11:25:56.185Z"
   },
   {
    "duration": 5,
    "start_time": "2022-03-19T11:27:00.232Z"
   },
   {
    "duration": 1148,
    "start_time": "2022-03-19T11:27:02.280Z"
   },
   {
    "duration": 1095,
    "start_time": "2022-03-19T11:27:08.662Z"
   },
   {
    "duration": 1096,
    "start_time": "2022-03-19T11:27:16.363Z"
   },
   {
    "duration": 4,
    "start_time": "2022-03-19T11:27:25.160Z"
   },
   {
    "duration": 5,
    "start_time": "2022-03-19T11:27:30.696Z"
   },
   {
    "duration": 2038,
    "start_time": "2022-03-19T11:27:51.792Z"
   },
   {
    "duration": 1243,
    "start_time": "2022-03-19T11:30:36.050Z"
   },
   {
    "duration": 1651,
    "start_time": "2022-03-19T11:31:08.193Z"
   },
   {
    "duration": 10,
    "start_time": "2022-03-19T11:31:14.490Z"
   },
   {
    "duration": 210,
    "start_time": "2022-03-19T11:31:30.833Z"
   },
   {
    "duration": 205,
    "start_time": "2022-03-19T11:31:48.341Z"
   },
   {
    "duration": 14,
    "start_time": "2022-03-19T11:32:19.153Z"
   },
   {
    "duration": 25,
    "start_time": "2022-03-19T11:32:26.273Z"
   },
   {
    "duration": 222,
    "start_time": "2022-03-19T11:32:51.442Z"
   },
   {
    "duration": 251,
    "start_time": "2022-03-19T11:33:12.533Z"
   },
   {
    "duration": 1522,
    "start_time": "2022-03-19T11:36:13.221Z"
   },
   {
    "duration": 440,
    "start_time": "2022-03-19T11:36:14.746Z"
   },
   {
    "duration": 40,
    "start_time": "2022-03-19T11:36:15.403Z"
   },
   {
    "duration": 9,
    "start_time": "2022-03-19T11:36:15.921Z"
   },
   {
    "duration": 115,
    "start_time": "2022-03-19T11:36:16.515Z"
   },
   {
    "duration": 35,
    "start_time": "2022-03-19T11:36:17.163Z"
   },
   {
    "duration": 123,
    "start_time": "2022-03-19T11:36:17.821Z"
   },
   {
    "duration": 12,
    "start_time": "2022-03-19T11:36:18.531Z"
   },
   {
    "duration": 58,
    "start_time": "2022-03-19T11:36:19.171Z"
   },
   {
    "duration": 38,
    "start_time": "2022-03-19T11:36:19.752Z"
   },
   {
    "duration": 62,
    "start_time": "2022-03-19T11:36:21.131Z"
   },
   {
    "duration": 16,
    "start_time": "2022-03-19T11:36:24.611Z"
   },
   {
    "duration": 22,
    "start_time": "2022-03-19T11:36:25.475Z"
   },
   {
    "duration": 3,
    "start_time": "2022-03-19T11:36:32.916Z"
   },
   {
    "duration": 7,
    "start_time": "2022-03-19T11:36:33.652Z"
   },
   {
    "duration": 5,
    "start_time": "2022-03-19T11:36:34.884Z"
   },
   {
    "duration": 4,
    "start_time": "2022-03-19T11:36:37.970Z"
   },
   {
    "duration": 5,
    "start_time": "2022-03-19T11:36:43.492Z"
   },
   {
    "duration": 612,
    "start_time": "2022-03-19T11:36:44.091Z"
   },
   {
    "duration": 268,
    "start_time": "2022-03-19T11:38:54.235Z"
   },
   {
    "duration": 181,
    "start_time": "2022-03-19T11:38:57.471Z"
   },
   {
    "duration": 283,
    "start_time": "2022-03-19T11:39:01.343Z"
   },
   {
    "duration": 270,
    "start_time": "2022-03-19T11:39:29.931Z"
   },
   {
    "duration": 3197,
    "start_time": "2022-03-19T11:44:43.975Z"
   },
   {
    "duration": 1104,
    "start_time": "2022-03-19T11:46:34.570Z"
   },
   {
    "duration": 6,
    "start_time": "2022-03-19T11:46:40.253Z"
   },
   {
    "duration": 6,
    "start_time": "2022-03-19T11:46:51.048Z"
   },
   {
    "duration": 13,
    "start_time": "2022-03-19T11:47:16.537Z"
   },
   {
    "duration": 7,
    "start_time": "2022-03-19T11:47:27.645Z"
   },
   {
    "duration": 8,
    "start_time": "2022-03-19T11:47:32.247Z"
   },
   {
    "duration": 188,
    "start_time": "2022-03-19T11:50:17.751Z"
   },
   {
    "duration": 138,
    "start_time": "2022-03-19T11:50:26.651Z"
   },
   {
    "duration": 16,
    "start_time": "2022-03-19T11:50:30.558Z"
   },
   {
    "duration": 8,
    "start_time": "2022-03-19T11:52:10.508Z"
   },
   {
    "duration": 1164,
    "start_time": "2022-03-19T22:46:45.300Z"
   },
   {
    "duration": 1249,
    "start_time": "2022-03-19T22:47:24.461Z"
   },
   {
    "duration": 341,
    "start_time": "2022-03-19T22:47:33.542Z"
   },
   {
    "duration": 23,
    "start_time": "2022-03-19T22:47:55.286Z"
   },
   {
    "duration": 80,
    "start_time": "2022-03-19T22:48:18.623Z"
   },
   {
    "duration": 197,
    "start_time": "2022-03-19T22:48:23.076Z"
   },
   {
    "duration": 5,
    "start_time": "2022-03-19T22:48:27.610Z"
   },
   {
    "duration": 71,
    "start_time": "2022-03-19T22:58:45.335Z"
   },
   {
    "duration": 22,
    "start_time": "2022-03-19T23:01:43.706Z"
   },
   {
    "duration": 82,
    "start_time": "2022-03-19T23:03:31.842Z"
   },
   {
    "duration": 9,
    "start_time": "2022-03-19T23:13:48.837Z"
   },
   {
    "duration": 33,
    "start_time": "2022-03-19T23:14:49.165Z"
   },
   {
    "duration": 217,
    "start_time": "2022-03-19T23:23:49.388Z"
   },
   {
    "duration": 3,
    "start_time": "2022-03-19T23:24:33.692Z"
   },
   {
    "duration": 23,
    "start_time": "2022-03-19T23:25:58.795Z"
   },
   {
    "duration": 8,
    "start_time": "2022-03-19T23:28:56.270Z"
   },
   {
    "duration": 7,
    "start_time": "2022-03-19T23:28:58.902Z"
   },
   {
    "duration": 3,
    "start_time": "2022-03-19T23:29:11.128Z"
   },
   {
    "duration": 7,
    "start_time": "2022-03-19T23:29:50.550Z"
   },
   {
    "duration": 24,
    "start_time": "2022-03-19T23:29:53.826Z"
   },
   {
    "duration": 4,
    "start_time": "2022-03-19T23:30:29.875Z"
   },
   {
    "duration": 137,
    "start_time": "2022-03-19T23:41:51.873Z"
   },
   {
    "duration": 5,
    "start_time": "2022-03-19T23:43:33.929Z"
   },
   {
    "duration": 9,
    "start_time": "2022-03-19T23:55:26.028Z"
   },
   {
    "duration": 13,
    "start_time": "2022-03-19T23:55:29.210Z"
   },
   {
    "duration": 5,
    "start_time": "2022-03-20T00:04:26.324Z"
   },
   {
    "duration": 3,
    "start_time": "2022-03-20T00:13:26.272Z"
   },
   {
    "duration": 3,
    "start_time": "2022-03-20T00:13:27.482Z"
   },
   {
    "duration": 3,
    "start_time": "2022-03-20T00:13:56.123Z"
   },
   {
    "duration": 599,
    "start_time": "2022-03-20T00:13:57.261Z"
   },
   {
    "duration": 137,
    "start_time": "2022-03-20T00:13:58.112Z"
   },
   {
    "duration": 130,
    "start_time": "2022-03-20T00:13:58.792Z"
   },
   {
    "duration": 24,
    "start_time": "2022-03-20T00:14:02.332Z"
   },
   {
    "duration": 3,
    "start_time": "2022-03-20T00:14:19.228Z"
   },
   {
    "duration": 1902,
    "start_time": "2022-03-20T00:14:24.308Z"
   },
   {
    "duration": 615,
    "start_time": "2022-03-20T00:14:48.636Z"
   },
   {
    "duration": 5,
    "start_time": "2022-03-20T00:14:50.149Z"
   },
   {
    "duration": 8,
    "start_time": "2022-03-20T00:15:03.730Z"
   },
   {
    "duration": 3,
    "start_time": "2022-03-20T00:15:17.867Z"
   },
   {
    "duration": 3,
    "start_time": "2022-03-20T00:15:23.229Z"
   },
   {
    "duration": 4,
    "start_time": "2022-03-20T00:15:32.284Z"
   },
   {
    "duration": 3,
    "start_time": "2022-03-20T00:15:41.400Z"
   },
   {
    "duration": 4,
    "start_time": "2022-03-20T00:15:47.768Z"
   },
   {
    "duration": 3,
    "start_time": "2022-03-20T00:16:02.900Z"
   },
   {
    "duration": 5,
    "start_time": "2022-03-20T00:16:08.146Z"
   },
   {
    "duration": 3,
    "start_time": "2022-03-20T00:16:25.490Z"
   },
   {
    "duration": 5,
    "start_time": "2022-03-20T00:16:30.776Z"
   },
   {
    "duration": 1217,
    "start_time": "2022-03-20T00:26:19.777Z"
   },
   {
    "duration": 352,
    "start_time": "2022-03-20T00:26:26.100Z"
   },
   {
    "duration": 25,
    "start_time": "2022-03-20T00:26:27.283Z"
   },
   {
    "duration": 5,
    "start_time": "2022-03-20T00:26:32.056Z"
   },
   {
    "duration": 76,
    "start_time": "2022-03-20T00:26:39.228Z"
   },
   {
    "duration": 27,
    "start_time": "2022-03-20T00:27:01.113Z"
   },
   {
    "duration": 84,
    "start_time": "2022-03-20T00:27:02.223Z"
   },
   {
    "duration": 9,
    "start_time": "2022-03-20T00:28:19.202Z"
   },
   {
    "duration": 36,
    "start_time": "2022-03-20T00:28:23.597Z"
   },
   {
    "duration": 4,
    "start_time": "2022-03-20T00:28:28.506Z"
   },
   {
    "duration": 25,
    "start_time": "2022-03-20T00:28:33.759Z"
   },
   {
    "duration": 24,
    "start_time": "2022-03-20T00:29:06.049Z"
   },
   {
    "duration": 97,
    "start_time": "2022-03-20T00:29:14.009Z"
   },
   {
    "duration": 9,
    "start_time": "2022-03-20T00:29:19.787Z"
   },
   {
    "duration": 14,
    "start_time": "2022-03-20T00:29:21.181Z"
   },
   {
    "duration": 14,
    "start_time": "2022-03-20T00:29:34.017Z"
   },
   {
    "duration": 18,
    "start_time": "2022-03-20T00:29:48.855Z"
   },
   {
    "duration": 6,
    "start_time": "2022-03-20T00:30:22.755Z"
   },
   {
    "duration": 3,
    "start_time": "2022-03-20T00:30:37.937Z"
   },
   {
    "duration": 3,
    "start_time": "2022-03-20T00:30:56.217Z"
   },
   {
    "duration": 3,
    "start_time": "2022-03-20T00:36:48.283Z"
   },
   {
    "duration": 118,
    "start_time": "2022-03-20T00:40:46.859Z"
   },
   {
    "duration": 568,
    "start_time": "2022-03-20T00:53:28.219Z"
   },
   {
    "duration": 445,
    "start_time": "2022-03-20T00:54:03.773Z"
   },
   {
    "duration": 449,
    "start_time": "2022-03-20T00:54:33.719Z"
   },
   {
    "duration": 439,
    "start_time": "2022-03-20T00:54:48.218Z"
   },
   {
    "duration": 550,
    "start_time": "2022-03-20T00:55:10.212Z"
   },
   {
    "duration": 537,
    "start_time": "2022-03-20T00:55:41.038Z"
   },
   {
    "duration": 428,
    "start_time": "2022-03-20T00:55:50.020Z"
   },
   {
    "duration": 420,
    "start_time": "2022-03-20T00:56:00.920Z"
   },
   {
    "duration": 449,
    "start_time": "2022-03-20T00:56:09.733Z"
   },
   {
    "duration": 436,
    "start_time": "2022-03-20T00:56:16.557Z"
   },
   {
    "duration": 457,
    "start_time": "2022-03-20T00:56:31.923Z"
   },
   {
    "duration": 441,
    "start_time": "2022-03-20T00:56:40.039Z"
   },
   {
    "duration": 574,
    "start_time": "2022-03-20T00:57:05.700Z"
   },
   {
    "duration": 438,
    "start_time": "2022-03-20T00:58:13.973Z"
   },
   {
    "duration": 469,
    "start_time": "2022-03-20T01:00:13.477Z"
   },
   {
    "duration": 464,
    "start_time": "2022-03-20T01:00:40.886Z"
   },
   {
    "duration": 554,
    "start_time": "2022-03-20T01:00:58.553Z"
   },
   {
    "duration": 447,
    "start_time": "2022-03-20T01:01:05.104Z"
   },
   {
    "duration": 525,
    "start_time": "2022-03-20T01:02:18.123Z"
   },
   {
    "duration": 578,
    "start_time": "2022-03-20T01:02:57.018Z"
   },
   {
    "duration": 475,
    "start_time": "2022-03-20T01:04:23.281Z"
   },
   {
    "duration": 1497,
    "start_time": "2022-03-20T01:16:54.130Z"
   },
   {
    "duration": 332,
    "start_time": "2022-03-20T01:16:55.628Z"
   },
   {
    "duration": 23,
    "start_time": "2022-03-20T01:16:55.961Z"
   },
   {
    "duration": 18,
    "start_time": "2022-03-20T01:16:55.986Z"
   },
   {
    "duration": 76,
    "start_time": "2022-03-20T01:16:56.006Z"
   },
   {
    "duration": 26,
    "start_time": "2022-03-20T01:16:56.546Z"
   },
   {
    "duration": 83,
    "start_time": "2022-03-20T01:16:57.347Z"
   },
   {
    "duration": 9,
    "start_time": "2022-03-20T01:16:58.529Z"
   },
   {
    "duration": 34,
    "start_time": "2022-03-20T01:16:59.366Z"
   },
   {
    "duration": 4,
    "start_time": "2022-03-20T01:17:00.206Z"
   },
   {
    "duration": 25,
    "start_time": "2022-03-20T01:17:05.099Z"
   },
   {
    "duration": 24,
    "start_time": "2022-03-20T01:17:06.536Z"
   },
   {
    "duration": 54,
    "start_time": "2022-03-20T01:17:09.256Z"
   },
   {
    "duration": 9,
    "start_time": "2022-03-20T01:17:11.214Z"
   },
   {
    "duration": 14,
    "start_time": "2022-03-20T01:17:11.659Z"
   },
   {
    "duration": 486,
    "start_time": "2022-03-20T01:17:12.723Z"
   },
   {
    "duration": 5,
    "start_time": "2022-03-20T01:17:15.471Z"
   },
   {
    "duration": 3,
    "start_time": "2022-03-20T01:17:25.120Z"
   },
   {
    "duration": 4,
    "start_time": "2022-03-20T01:17:28.300Z"
   },
   {
    "duration": 4,
    "start_time": "2022-03-20T01:17:30.417Z"
   },
   {
    "duration": 4,
    "start_time": "2022-03-20T01:17:30.974Z"
   },
   {
    "duration": 643,
    "start_time": "2022-03-20T01:20:33.258Z"
   },
   {
    "duration": 6,
    "start_time": "2022-03-20T01:20:36.660Z"
   },
   {
    "duration": 5,
    "start_time": "2022-03-20T01:21:18.957Z"
   },
   {
    "duration": 5,
    "start_time": "2022-03-20T01:21:55.974Z"
   },
   {
    "duration": 9,
    "start_time": "2022-03-20T01:22:35.204Z"
   },
   {
    "duration": 6,
    "start_time": "2022-03-20T01:23:29.596Z"
   },
   {
    "duration": 5,
    "start_time": "2022-03-20T01:24:26.677Z"
   },
   {
    "duration": 5,
    "start_time": "2022-03-20T01:24:35.038Z"
   },
   {
    "duration": 5,
    "start_time": "2022-03-20T01:24:39.701Z"
   },
   {
    "duration": 5,
    "start_time": "2022-03-20T01:24:44.220Z"
   },
   {
    "duration": 5,
    "start_time": "2022-03-20T01:24:47.079Z"
   },
   {
    "duration": 627,
    "start_time": "2022-03-20T01:26:04.207Z"
   },
   {
    "duration": 1528,
    "start_time": "2022-03-20T01:27:15.806Z"
   },
   {
    "duration": 352,
    "start_time": "2022-03-20T01:27:17.336Z"
   },
   {
    "duration": 23,
    "start_time": "2022-03-20T01:27:17.689Z"
   },
   {
    "duration": 6,
    "start_time": "2022-03-20T01:27:17.714Z"
   },
   {
    "duration": 77,
    "start_time": "2022-03-20T01:27:18.545Z"
   },
   {
    "duration": 23,
    "start_time": "2022-03-20T01:27:19.002Z"
   },
   {
    "duration": 91,
    "start_time": "2022-03-20T01:27:19.417Z"
   },
   {
    "duration": 9,
    "start_time": "2022-03-20T01:27:20.090Z"
   },
   {
    "duration": 35,
    "start_time": "2022-03-20T01:27:20.434Z"
   },
   {
    "duration": 4,
    "start_time": "2022-03-20T01:27:20.887Z"
   },
   {
    "duration": 24,
    "start_time": "2022-03-20T01:27:21.363Z"
   },
   {
    "duration": 26,
    "start_time": "2022-03-20T01:27:22.687Z"
   },
   {
    "duration": 116,
    "start_time": "2022-03-20T01:27:23.888Z"
   },
   {
    "duration": 9,
    "start_time": "2022-03-20T01:27:24.753Z"
   },
   {
    "duration": 14,
    "start_time": "2022-03-20T01:27:25.147Z"
   },
   {
    "duration": 500,
    "start_time": "2022-03-20T01:27:25.953Z"
   },
   {
    "duration": 5,
    "start_time": "2022-03-20T01:27:27.728Z"
   },
   {
    "duration": 3,
    "start_time": "2022-03-20T01:27:29.573Z"
   },
   {
    "duration": 3,
    "start_time": "2022-03-20T01:27:31.018Z"
   },
   {
    "duration": 4,
    "start_time": "2022-03-20T01:27:32.973Z"
   },
   {
    "duration": 3,
    "start_time": "2022-03-20T01:27:33.944Z"
   },
   {
    "duration": 1890,
    "start_time": "2022-03-20T01:27:38.675Z"
   },
   {
    "duration": 4,
    "start_time": "2022-03-20T01:29:45.683Z"
   },
   {
    "duration": 4,
    "start_time": "2022-03-20T01:29:55.258Z"
   },
   {
    "duration": 4,
    "start_time": "2022-03-20T01:31:12.411Z"
   },
   {
    "duration": 9,
    "start_time": "2022-03-20T01:33:42.544Z"
   },
   {
    "duration": 6,
    "start_time": "2022-03-20T01:33:56.419Z"
   },
   {
    "duration": 8,
    "start_time": "2022-03-20T01:38:22.567Z"
   },
   {
    "duration": 1497,
    "start_time": "2022-03-20T01:41:54.905Z"
   },
   {
    "duration": 343,
    "start_time": "2022-03-20T01:41:56.404Z"
   },
   {
    "duration": 22,
    "start_time": "2022-03-20T01:41:56.749Z"
   },
   {
    "duration": 5,
    "start_time": "2022-03-20T01:41:56.773Z"
   },
   {
    "duration": 93,
    "start_time": "2022-03-20T01:41:56.779Z"
   },
   {
    "duration": 38,
    "start_time": "2022-03-20T01:41:56.873Z"
   },
   {
    "duration": 103,
    "start_time": "2022-03-20T01:41:56.913Z"
   },
   {
    "duration": 9,
    "start_time": "2022-03-20T01:41:57.018Z"
   },
   {
    "duration": 34,
    "start_time": "2022-03-20T01:41:57.029Z"
   },
   {
    "duration": 4,
    "start_time": "2022-03-20T01:41:57.066Z"
   },
   {
    "duration": 50,
    "start_time": "2022-03-20T01:41:57.072Z"
   },
   {
    "duration": 23,
    "start_time": "2022-03-20T01:41:57.124Z"
   },
   {
    "duration": 153,
    "start_time": "2022-03-20T01:41:57.149Z"
   },
   {
    "duration": 98,
    "start_time": "2022-03-20T01:41:57.304Z"
   },
   {
    "duration": 14,
    "start_time": "2022-03-20T01:41:57.403Z"
   },
   {
    "duration": 506,
    "start_time": "2022-03-20T01:41:57.418Z"
   },
   {
    "duration": 4,
    "start_time": "2022-03-20T01:41:57.925Z"
   },
   {
    "duration": 4,
    "start_time": "2022-03-20T01:41:57.931Z"
   },
   {
    "duration": 6,
    "start_time": "2022-03-20T01:41:57.936Z"
   },
   {
    "duration": 4,
    "start_time": "2022-03-20T01:41:57.943Z"
   },
   {
    "duration": 5,
    "start_time": "2022-03-20T01:41:57.948Z"
   },
   {
    "duration": 1842,
    "start_time": "2022-03-20T01:41:57.954Z"
   },
   {
    "duration": 3,
    "start_time": "2022-03-20T01:41:59.801Z"
   },
   {
    "duration": 10,
    "start_time": "2022-03-20T01:41:59.806Z"
   },
   {
    "duration": 9,
    "start_time": "2022-03-20T01:41:59.817Z"
   },
   {
    "duration": 1542,
    "start_time": "2022-03-20T01:42:07.874Z"
   },
   {
    "duration": 345,
    "start_time": "2022-03-20T01:42:09.418Z"
   },
   {
    "duration": 22,
    "start_time": "2022-03-20T01:42:09.764Z"
   },
   {
    "duration": 4,
    "start_time": "2022-03-20T01:42:09.801Z"
   },
   {
    "duration": 94,
    "start_time": "2022-03-20T01:42:09.807Z"
   },
   {
    "duration": 22,
    "start_time": "2022-03-20T01:42:09.903Z"
   },
   {
    "duration": 102,
    "start_time": "2022-03-20T01:42:09.926Z"
   },
   {
    "duration": 8,
    "start_time": "2022-03-20T01:42:10.030Z"
   },
   {
    "duration": 37,
    "start_time": "2022-03-20T01:42:10.039Z"
   },
   {
    "duration": 3,
    "start_time": "2022-03-20T01:42:10.078Z"
   },
   {
    "duration": 38,
    "start_time": "2022-03-20T01:42:10.083Z"
   },
   {
    "duration": 26,
    "start_time": "2022-03-20T01:42:10.123Z"
   },
   {
    "duration": 155,
    "start_time": "2022-03-20T01:42:10.150Z"
   },
   {
    "duration": 101,
    "start_time": "2022-03-20T01:42:10.307Z"
   },
   {
    "duration": 100,
    "start_time": "2022-03-20T01:42:10.410Z"
   },
   {
    "duration": 488,
    "start_time": "2022-03-20T01:42:10.512Z"
   },
   {
    "duration": 4,
    "start_time": "2022-03-20T01:42:11.002Z"
   },
   {
    "duration": 4,
    "start_time": "2022-03-20T01:42:11.008Z"
   },
   {
    "duration": 4,
    "start_time": "2022-03-20T01:42:11.014Z"
   },
   {
    "duration": 4,
    "start_time": "2022-03-20T01:42:11.019Z"
   },
   {
    "duration": 3,
    "start_time": "2022-03-20T01:42:11.025Z"
   },
   {
    "duration": 1888,
    "start_time": "2022-03-20T01:42:11.029Z"
   },
   {
    "duration": 4,
    "start_time": "2022-03-20T01:42:12.918Z"
   },
   {
    "duration": 9,
    "start_time": "2022-03-20T01:42:12.924Z"
   },
   {
    "duration": 7,
    "start_time": "2022-03-20T01:42:12.935Z"
   },
   {
    "duration": 1532,
    "start_time": "2022-03-20T02:22:46.705Z"
   },
   {
    "duration": 339,
    "start_time": "2022-03-20T02:22:48.239Z"
   },
   {
    "duration": 30,
    "start_time": "2022-03-20T02:22:48.580Z"
   },
   {
    "duration": 6,
    "start_time": "2022-03-20T02:22:48.612Z"
   },
   {
    "duration": 98,
    "start_time": "2022-03-20T02:22:48.619Z"
   },
   {
    "duration": 21,
    "start_time": "2022-03-20T02:22:48.718Z"
   },
   {
    "duration": 103,
    "start_time": "2022-03-20T02:22:48.741Z"
   },
   {
    "duration": 8,
    "start_time": "2022-03-20T02:22:48.846Z"
   },
   {
    "duration": 46,
    "start_time": "2022-03-20T02:22:48.855Z"
   },
   {
    "duration": 4,
    "start_time": "2022-03-20T02:22:48.903Z"
   },
   {
    "duration": 23,
    "start_time": "2022-03-20T02:22:48.909Z"
   },
   {
    "duration": 23,
    "start_time": "2022-03-20T02:22:48.934Z"
   },
   {
    "duration": 149,
    "start_time": "2022-03-20T02:22:48.959Z"
   },
   {
    "duration": 192,
    "start_time": "2022-03-20T02:22:49.109Z"
   },
   {
    "duration": 13,
    "start_time": "2022-03-20T02:22:49.303Z"
   },
   {
    "duration": 498,
    "start_time": "2022-03-20T02:22:49.317Z"
   },
   {
    "duration": 5,
    "start_time": "2022-03-20T02:22:49.816Z"
   },
   {
    "duration": 6,
    "start_time": "2022-03-20T02:22:49.822Z"
   },
   {
    "duration": 4,
    "start_time": "2022-03-20T02:22:49.829Z"
   },
   {
    "duration": 6,
    "start_time": "2022-03-20T02:22:49.835Z"
   },
   {
    "duration": 4,
    "start_time": "2022-03-20T02:22:49.843Z"
   },
   {
    "duration": 1809,
    "start_time": "2022-03-20T02:22:49.848Z"
   },
   {
    "duration": 4,
    "start_time": "2022-03-20T02:22:51.658Z"
   },
   {
    "duration": 11,
    "start_time": "2022-03-20T02:22:51.663Z"
   },
   {
    "duration": 7,
    "start_time": "2022-03-20T02:22:51.675Z"
   },
   {
    "duration": 1508,
    "start_time": "2022-03-20T02:25:37.745Z"
   },
   {
    "duration": 358,
    "start_time": "2022-03-20T02:25:39.254Z"
   },
   {
    "duration": 21,
    "start_time": "2022-03-20T02:25:39.613Z"
   },
   {
    "duration": 5,
    "start_time": "2022-03-20T02:25:39.636Z"
   },
   {
    "duration": 96,
    "start_time": "2022-03-20T02:25:39.642Z"
   },
   {
    "duration": 22,
    "start_time": "2022-03-20T02:25:39.740Z"
   },
   {
    "duration": 104,
    "start_time": "2022-03-20T02:25:39.764Z"
   },
   {
    "duration": 9,
    "start_time": "2022-03-20T02:25:39.869Z"
   },
   {
    "duration": 49,
    "start_time": "2022-03-20T02:25:39.880Z"
   },
   {
    "duration": 4,
    "start_time": "2022-03-20T02:25:39.931Z"
   },
   {
    "duration": 24,
    "start_time": "2022-03-20T02:25:39.937Z"
   },
   {
    "duration": 45,
    "start_time": "2022-03-20T02:25:39.963Z"
   },
   {
    "duration": 192,
    "start_time": "2022-03-20T02:25:40.010Z"
   },
   {
    "duration": 97,
    "start_time": "2022-03-20T02:25:40.204Z"
   },
   {
    "duration": 13,
    "start_time": "2022-03-20T02:25:40.303Z"
   },
   {
    "duration": 496,
    "start_time": "2022-03-20T02:25:40.318Z"
   },
   {
    "duration": 5,
    "start_time": "2022-03-20T02:25:40.815Z"
   },
   {
    "duration": 5,
    "start_time": "2022-03-20T02:25:40.822Z"
   },
   {
    "duration": 5,
    "start_time": "2022-03-20T02:25:40.828Z"
   },
   {
    "duration": 4,
    "start_time": "2022-03-20T02:25:40.834Z"
   },
   {
    "duration": 6,
    "start_time": "2022-03-20T02:25:40.839Z"
   },
   {
    "duration": 1832,
    "start_time": "2022-03-20T02:25:40.846Z"
   },
   {
    "duration": 3,
    "start_time": "2022-03-20T02:25:42.680Z"
   },
   {
    "duration": 19,
    "start_time": "2022-03-20T02:25:42.685Z"
   },
   {
    "duration": 8,
    "start_time": "2022-03-20T02:25:42.705Z"
   },
   {
    "duration": 2377,
    "start_time": "2022-03-20T10:25:44.173Z"
   },
   {
    "duration": 605,
    "start_time": "2022-03-20T10:25:46.556Z"
   },
   {
    "duration": 50,
    "start_time": "2022-03-20T10:25:47.168Z"
   },
   {
    "duration": 29,
    "start_time": "2022-03-20T10:25:47.223Z"
   },
   {
    "duration": 138,
    "start_time": "2022-03-20T10:25:47.254Z"
   },
   {
    "duration": 65,
    "start_time": "2022-03-20T10:25:47.395Z"
   },
   {
    "duration": 193,
    "start_time": "2022-03-20T10:25:47.462Z"
   },
   {
    "duration": 16,
    "start_time": "2022-03-20T10:25:47.657Z"
   },
   {
    "duration": 75,
    "start_time": "2022-03-20T10:25:47.675Z"
   },
   {
    "duration": 6,
    "start_time": "2022-03-20T10:25:47.754Z"
   },
   {
    "duration": 53,
    "start_time": "2022-03-20T10:25:47.762Z"
   },
   {
    "duration": 59,
    "start_time": "2022-03-20T10:25:47.818Z"
   },
   {
    "duration": 198,
    "start_time": "2022-03-20T10:25:47.879Z"
   },
   {
    "duration": 57,
    "start_time": "2022-03-20T10:25:48.099Z"
   },
   {
    "duration": 99,
    "start_time": "2022-03-20T10:25:48.159Z"
   },
   {
    "duration": 1059,
    "start_time": "2022-03-20T10:25:48.261Z"
   },
   {
    "duration": 21,
    "start_time": "2022-03-20T10:25:49.324Z"
   },
   {
    "duration": 5,
    "start_time": "2022-03-20T10:25:49.347Z"
   },
   {
    "duration": 15,
    "start_time": "2022-03-20T10:25:49.355Z"
   },
   {
    "duration": 7,
    "start_time": "2022-03-20T10:25:49.372Z"
   },
   {
    "duration": 7,
    "start_time": "2022-03-20T10:25:49.381Z"
   },
   {
    "duration": 3375,
    "start_time": "2022-03-20T10:25:49.390Z"
   },
   {
    "duration": 6,
    "start_time": "2022-03-20T10:25:52.767Z"
   },
   {
    "duration": 271,
    "start_time": "2022-03-20T10:25:52.776Z"
   },
   {
    "duration": 0,
    "start_time": "2022-03-20T10:25:53.050Z"
   },
   {
    "duration": 224,
    "start_time": "2022-03-20T10:27:06.239Z"
   },
   {
    "duration": 12,
    "start_time": "2022-03-20T10:27:19.261Z"
   },
   {
    "duration": 8,
    "start_time": "2022-03-20T10:27:44.116Z"
   },
   {
    "duration": 2095,
    "start_time": "2022-03-20T10:27:59.111Z"
   },
   {
    "duration": 563,
    "start_time": "2022-03-20T10:28:01.209Z"
   },
   {
    "duration": 37,
    "start_time": "2022-03-20T10:28:01.775Z"
   },
   {
    "duration": 29,
    "start_time": "2022-03-20T10:28:01.815Z"
   },
   {
    "duration": 147,
    "start_time": "2022-03-20T10:28:01.847Z"
   },
   {
    "duration": 56,
    "start_time": "2022-03-20T10:28:01.996Z"
   },
   {
    "duration": 152,
    "start_time": "2022-03-20T10:28:02.054Z"
   },
   {
    "duration": 13,
    "start_time": "2022-03-20T10:28:02.210Z"
   },
   {
    "duration": 64,
    "start_time": "2022-03-20T10:28:02.226Z"
   },
   {
    "duration": 6,
    "start_time": "2022-03-20T10:28:02.295Z"
   },
   {
    "duration": 71,
    "start_time": "2022-03-20T10:28:02.304Z"
   },
   {
    "duration": 35,
    "start_time": "2022-03-20T10:28:02.377Z"
   },
   {
    "duration": 237,
    "start_time": "2022-03-20T10:28:02.414Z"
   },
   {
    "duration": 103,
    "start_time": "2022-03-20T10:28:02.654Z"
   },
   {
    "duration": 27,
    "start_time": "2022-03-20T10:28:02.760Z"
   },
   {
    "duration": 969,
    "start_time": "2022-03-20T10:28:02.789Z"
   },
   {
    "duration": 7,
    "start_time": "2022-03-20T10:28:03.760Z"
   },
   {
    "duration": 9,
    "start_time": "2022-03-20T10:28:03.769Z"
   },
   {
    "duration": 7,
    "start_time": "2022-03-20T10:28:03.780Z"
   },
   {
    "duration": 6,
    "start_time": "2022-03-20T10:28:03.789Z"
   },
   {
    "duration": 6,
    "start_time": "2022-03-20T10:28:03.798Z"
   },
   {
    "duration": 3393,
    "start_time": "2022-03-20T10:28:03.844Z"
   },
   {
    "duration": 7,
    "start_time": "2022-03-20T10:28:07.239Z"
   },
   {
    "duration": 18,
    "start_time": "2022-03-20T10:28:07.248Z"
   },
   {
    "duration": 16,
    "start_time": "2022-03-20T10:28:07.268Z"
   },
   {
    "duration": 168,
    "start_time": "2022-03-20T10:35:05.964Z"
   },
   {
    "duration": 826,
    "start_time": "2022-03-20T10:35:51.520Z"
   },
   {
    "duration": 15,
    "start_time": "2022-03-20T10:35:56.945Z"
   },
   {
    "duration": 10,
    "start_time": "2022-03-20T10:39:53.958Z"
   },
   {
    "duration": 7,
    "start_time": "2022-03-20T10:41:35.254Z"
   },
   {
    "duration": 2033,
    "start_time": "2022-03-20T10:53:45.297Z"
   },
   {
    "duration": 514,
    "start_time": "2022-03-20T10:53:47.333Z"
   },
   {
    "duration": 39,
    "start_time": "2022-03-20T10:53:47.849Z"
   },
   {
    "duration": 8,
    "start_time": "2022-03-20T10:53:47.891Z"
   },
   {
    "duration": 190,
    "start_time": "2022-03-20T10:53:47.902Z"
   },
   {
    "duration": 66,
    "start_time": "2022-03-20T10:53:48.094Z"
   },
   {
    "duration": 151,
    "start_time": "2022-03-20T10:53:48.162Z"
   },
   {
    "duration": 12,
    "start_time": "2022-03-20T10:53:48.316Z"
   },
   {
    "duration": 63,
    "start_time": "2022-03-20T10:53:48.330Z"
   },
   {
    "duration": 6,
    "start_time": "2022-03-20T10:53:48.397Z"
   },
   {
    "duration": 56,
    "start_time": "2022-03-20T10:53:48.406Z"
   },
   {
    "duration": 38,
    "start_time": "2022-03-20T10:53:48.464Z"
   },
   {
    "duration": 146,
    "start_time": "2022-03-20T10:53:48.504Z"
   },
   {
    "duration": 93,
    "start_time": "2022-03-20T10:53:48.657Z"
   },
   {
    "duration": 38,
    "start_time": "2022-03-20T10:53:48.752Z"
   },
   {
    "duration": 937,
    "start_time": "2022-03-20T10:53:48.792Z"
   },
   {
    "duration": 16,
    "start_time": "2022-03-20T10:53:49.731Z"
   },
   {
    "duration": 17,
    "start_time": "2022-03-20T10:53:49.750Z"
   },
   {
    "duration": 12,
    "start_time": "2022-03-20T10:53:49.770Z"
   },
   {
    "duration": 8,
    "start_time": "2022-03-20T10:53:49.784Z"
   },
   {
    "duration": 10,
    "start_time": "2022-03-20T10:53:49.795Z"
   },
   {
    "duration": 3402,
    "start_time": "2022-03-20T10:53:49.807Z"
   },
   {
    "duration": 6,
    "start_time": "2022-03-20T10:53:53.211Z"
   },
   {
    "duration": 25,
    "start_time": "2022-03-20T10:53:53.219Z"
   },
   {
    "duration": 15,
    "start_time": "2022-03-20T10:53:53.250Z"
   },
   {
    "duration": 23,
    "start_time": "2022-03-20T10:53:53.267Z"
   },
   {
    "duration": 16,
    "start_time": "2022-03-20T10:53:53.293Z"
   },
   {
    "duration": 17,
    "start_time": "2022-03-20T10:53:53.313Z"
   },
   {
    "duration": 1968,
    "start_time": "2022-03-20T10:59:17.080Z"
   },
   {
    "duration": 479,
    "start_time": "2022-03-20T10:59:19.051Z"
   },
   {
    "duration": 44,
    "start_time": "2022-03-20T10:59:19.532Z"
   },
   {
    "duration": 9,
    "start_time": "2022-03-20T10:59:19.580Z"
   },
   {
    "duration": 187,
    "start_time": "2022-03-20T10:59:19.591Z"
   },
   {
    "duration": 64,
    "start_time": "2022-03-20T10:59:19.781Z"
   },
   {
    "duration": 142,
    "start_time": "2022-03-20T10:59:19.848Z"
   },
   {
    "duration": 11,
    "start_time": "2022-03-20T10:59:19.993Z"
   },
   {
    "duration": 67,
    "start_time": "2022-03-20T10:59:20.006Z"
   },
   {
    "duration": 6,
    "start_time": "2022-03-20T10:59:20.077Z"
   },
   {
    "duration": 43,
    "start_time": "2022-03-20T10:59:20.085Z"
   },
   {
    "duration": 39,
    "start_time": "2022-03-20T10:59:20.142Z"
   },
   {
    "duration": 170,
    "start_time": "2022-03-20T10:59:20.184Z"
   },
   {
    "duration": 186,
    "start_time": "2022-03-20T10:59:20.357Z"
   },
   {
    "duration": 39,
    "start_time": "2022-03-20T10:59:20.547Z"
   },
   {
    "duration": 918,
    "start_time": "2022-03-20T10:59:20.588Z"
   },
   {
    "duration": 8,
    "start_time": "2022-03-20T10:59:21.509Z"
   },
   {
    "duration": 5,
    "start_time": "2022-03-20T10:59:21.519Z"
   },
   {
    "duration": 5,
    "start_time": "2022-03-20T10:59:21.542Z"
   },
   {
    "duration": 13,
    "start_time": "2022-03-20T10:59:21.552Z"
   },
   {
    "duration": 7,
    "start_time": "2022-03-20T10:59:21.567Z"
   },
   {
    "duration": 172,
    "start_time": "2022-03-20T10:59:21.576Z"
   },
   {
    "duration": 0,
    "start_time": "2022-03-20T10:59:21.751Z"
   },
   {
    "duration": 0,
    "start_time": "2022-03-20T10:59:21.753Z"
   },
   {
    "duration": 0,
    "start_time": "2022-03-20T10:59:21.755Z"
   },
   {
    "duration": 0,
    "start_time": "2022-03-20T10:59:21.757Z"
   },
   {
    "duration": 0,
    "start_time": "2022-03-20T10:59:21.758Z"
   },
   {
    "duration": 0,
    "start_time": "2022-03-20T10:59:21.760Z"
   },
   {
    "duration": 0,
    "start_time": "2022-03-20T10:59:21.761Z"
   },
   {
    "duration": 3450,
    "start_time": "2022-03-20T10:59:33.548Z"
   },
   {
    "duration": 2034,
    "start_time": "2022-03-20T10:59:44.800Z"
   },
   {
    "duration": 582,
    "start_time": "2022-03-20T10:59:46.837Z"
   },
   {
    "duration": 49,
    "start_time": "2022-03-20T10:59:47.422Z"
   },
   {
    "duration": 8,
    "start_time": "2022-03-20T10:59:47.474Z"
   },
   {
    "duration": 174,
    "start_time": "2022-03-20T10:59:47.484Z"
   },
   {
    "duration": 31,
    "start_time": "2022-03-20T10:59:47.661Z"
   },
   {
    "duration": 155,
    "start_time": "2022-03-20T10:59:47.695Z"
   },
   {
    "duration": 15,
    "start_time": "2022-03-20T10:59:47.852Z"
   },
   {
    "duration": 80,
    "start_time": "2022-03-20T10:59:47.869Z"
   },
   {
    "duration": 8,
    "start_time": "2022-03-20T10:59:47.955Z"
   },
   {
    "duration": 37,
    "start_time": "2022-03-20T10:59:47.965Z"
   },
   {
    "duration": 61,
    "start_time": "2022-03-20T10:59:48.004Z"
   },
   {
    "duration": 190,
    "start_time": "2022-03-20T10:59:48.067Z"
   },
   {
    "duration": 91,
    "start_time": "2022-03-20T10:59:48.260Z"
   },
   {
    "duration": 27,
    "start_time": "2022-03-20T10:59:48.354Z"
   },
   {
    "duration": 956,
    "start_time": "2022-03-20T10:59:48.383Z"
   },
   {
    "duration": 10,
    "start_time": "2022-03-20T10:59:49.342Z"
   },
   {
    "duration": 7,
    "start_time": "2022-03-20T10:59:49.359Z"
   },
   {
    "duration": 11,
    "start_time": "2022-03-20T10:59:49.369Z"
   },
   {
    "duration": 6,
    "start_time": "2022-03-20T10:59:49.383Z"
   },
   {
    "duration": 11,
    "start_time": "2022-03-20T10:59:49.391Z"
   },
   {
    "duration": 3364,
    "start_time": "2022-03-20T10:59:49.405Z"
   },
   {
    "duration": 3,
    "start_time": "2022-03-20T10:59:52.772Z"
   },
   {
    "duration": 178,
    "start_time": "2022-03-20T10:59:52.777Z"
   },
   {
    "duration": 0,
    "start_time": "2022-03-20T10:59:52.957Z"
   },
   {
    "duration": 1,
    "start_time": "2022-03-20T10:59:52.963Z"
   },
   {
    "duration": 0,
    "start_time": "2022-03-20T10:59:52.966Z"
   },
   {
    "duration": 0,
    "start_time": "2022-03-20T10:59:52.967Z"
   },
   {
    "duration": 0,
    "start_time": "2022-03-20T10:59:52.968Z"
   },
   {
    "duration": 1955,
    "start_time": "2022-03-20T11:00:42.388Z"
   },
   {
    "duration": 490,
    "start_time": "2022-03-20T11:00:44.346Z"
   },
   {
    "duration": 39,
    "start_time": "2022-03-20T11:00:44.838Z"
   },
   {
    "duration": 8,
    "start_time": "2022-03-20T11:00:44.880Z"
   },
   {
    "duration": 175,
    "start_time": "2022-03-20T11:00:44.892Z"
   },
   {
    "duration": 44,
    "start_time": "2022-03-20T11:00:45.069Z"
   },
   {
    "duration": 189,
    "start_time": "2022-03-20T11:00:45.115Z"
   },
   {
    "duration": 14,
    "start_time": "2022-03-20T11:00:45.306Z"
   },
   {
    "duration": 71,
    "start_time": "2022-03-20T11:00:45.343Z"
   },
   {
    "duration": 9,
    "start_time": "2022-03-20T11:00:45.417Z"
   },
   {
    "duration": 64,
    "start_time": "2022-03-20T11:00:45.428Z"
   },
   {
    "duration": 55,
    "start_time": "2022-03-20T11:00:45.495Z"
   },
   {
    "duration": 108,
    "start_time": "2022-03-20T11:00:45.553Z"
   },
   {
    "duration": 185,
    "start_time": "2022-03-20T11:00:45.665Z"
   },
   {
    "duration": 28,
    "start_time": "2022-03-20T11:00:45.856Z"
   },
   {
    "duration": 1256,
    "start_time": "2022-03-20T11:00:45.887Z"
   },
   {
    "duration": 7,
    "start_time": "2022-03-20T11:00:47.145Z"
   },
   {
    "duration": 14,
    "start_time": "2022-03-20T11:00:47.155Z"
   },
   {
    "duration": 9,
    "start_time": "2022-03-20T11:00:47.171Z"
   },
   {
    "duration": 5,
    "start_time": "2022-03-20T11:00:47.182Z"
   },
   {
    "duration": 5,
    "start_time": "2022-03-20T11:00:47.189Z"
   },
   {
    "duration": 3374,
    "start_time": "2022-03-20T11:00:47.196Z"
   },
   {
    "duration": 6,
    "start_time": "2022-03-20T11:00:50.573Z"
   },
   {
    "duration": 9,
    "start_time": "2022-03-20T11:00:50.581Z"
   },
   {
    "duration": 12,
    "start_time": "2022-03-20T11:00:50.593Z"
   },
   {
    "duration": 40,
    "start_time": "2022-03-20T11:00:50.608Z"
   },
   {
    "duration": 17,
    "start_time": "2022-03-20T11:00:50.655Z"
   },
   {
    "duration": 11,
    "start_time": "2022-03-20T11:00:50.675Z"
   },
   {
    "duration": 46,
    "start_time": "2022-03-20T11:19:09.284Z"
   },
   {
    "duration": 44,
    "start_time": "2022-03-20T11:19:16.775Z"
   },
   {
    "duration": 35,
    "start_time": "2022-03-20T11:19:47.440Z"
   },
   {
    "duration": 48,
    "start_time": "2022-03-20T11:20:01.352Z"
   },
   {
    "duration": 37,
    "start_time": "2022-03-20T11:20:09.933Z"
   },
   {
    "duration": 28,
    "start_time": "2022-03-20T11:20:16.111Z"
   },
   {
    "duration": 2044,
    "start_time": "2022-03-20T11:29:16.922Z"
   },
   {
    "duration": 484,
    "start_time": "2022-03-20T11:29:18.969Z"
   },
   {
    "duration": 37,
    "start_time": "2022-03-20T11:29:19.455Z"
   },
   {
    "duration": 9,
    "start_time": "2022-03-20T11:29:19.495Z"
   },
   {
    "duration": 171,
    "start_time": "2022-03-20T11:29:19.506Z"
   },
   {
    "duration": 29,
    "start_time": "2022-03-20T11:29:19.680Z"
   },
   {
    "duration": 164,
    "start_time": "2022-03-20T11:29:19.712Z"
   },
   {
    "duration": 13,
    "start_time": "2022-03-20T11:29:19.878Z"
   },
   {
    "duration": 77,
    "start_time": "2022-03-20T11:29:19.894Z"
   },
   {
    "duration": 6,
    "start_time": "2022-03-20T11:29:19.975Z"
   },
   {
    "duration": 64,
    "start_time": "2022-03-20T11:29:19.983Z"
   },
   {
    "duration": 50,
    "start_time": "2022-03-20T11:29:20.050Z"
   },
   {
    "duration": 351,
    "start_time": "2022-03-20T11:29:20.102Z"
   },
   {
    "duration": 98,
    "start_time": "2022-03-20T11:29:20.459Z"
   },
   {
    "duration": 25,
    "start_time": "2022-03-20T11:29:20.559Z"
   },
   {
    "duration": 971,
    "start_time": "2022-03-20T11:29:20.587Z"
   },
   {
    "duration": 10,
    "start_time": "2022-03-20T11:29:21.561Z"
   },
   {
    "duration": 9,
    "start_time": "2022-03-20T11:29:21.573Z"
   },
   {
    "duration": 10,
    "start_time": "2022-03-20T11:29:21.584Z"
   },
   {
    "duration": 14,
    "start_time": "2022-03-20T11:29:21.596Z"
   },
   {
    "duration": 6,
    "start_time": "2022-03-20T11:29:21.612Z"
   },
   {
    "duration": 3601,
    "start_time": "2022-03-20T11:29:21.643Z"
   },
   {
    "duration": 8,
    "start_time": "2022-03-20T11:29:25.246Z"
   },
   {
    "duration": 20,
    "start_time": "2022-03-20T11:29:25.257Z"
   },
   {
    "duration": 24,
    "start_time": "2022-03-20T11:29:25.280Z"
   },
   {
    "duration": 15,
    "start_time": "2022-03-20T11:29:25.306Z"
   },
   {
    "duration": 39,
    "start_time": "2022-03-20T11:29:25.323Z"
   },
   {
    "duration": 14,
    "start_time": "2022-03-20T11:29:25.367Z"
   },
   {
    "duration": 1362,
    "start_time": "2022-08-01T22:45:59.232Z"
   },
   {
    "duration": 778,
    "start_time": "2022-08-01T22:46:00.596Z"
   },
   {
    "duration": 24,
    "start_time": "2022-08-01T22:46:01.375Z"
   },
   {
    "duration": 7,
    "start_time": "2022-08-01T22:46:01.400Z"
   },
   {
    "duration": 143,
    "start_time": "2022-08-01T22:46:01.410Z"
   },
   {
    "duration": 37,
    "start_time": "2022-08-01T22:46:01.555Z"
   },
   {
    "duration": 112,
    "start_time": "2022-08-01T22:46:01.593Z"
   },
   {
    "duration": 9,
    "start_time": "2022-08-01T22:46:01.706Z"
   },
   {
    "duration": 46,
    "start_time": "2022-08-01T22:46:01.716Z"
   },
   {
    "duration": 9,
    "start_time": "2022-08-01T22:46:01.764Z"
   },
   {
    "duration": 30,
    "start_time": "2022-08-01T22:46:01.775Z"
   },
   {
    "duration": 30,
    "start_time": "2022-08-01T22:46:01.806Z"
   },
   {
    "duration": 138,
    "start_time": "2022-08-01T22:46:01.838Z"
   },
   {
    "duration": 202,
    "start_time": "2022-08-01T22:46:01.979Z"
   },
   {
    "duration": 19,
    "start_time": "2022-08-01T22:46:02.183Z"
   },
   {
    "duration": 491,
    "start_time": "2022-08-01T22:46:02.204Z"
   },
   {
    "duration": 6,
    "start_time": "2022-08-01T22:46:02.697Z"
   },
   {
    "duration": 7,
    "start_time": "2022-08-01T22:46:02.705Z"
   },
   {
    "duration": 30,
    "start_time": "2022-08-01T22:46:02.713Z"
   },
   {
    "duration": 4,
    "start_time": "2022-08-01T22:46:02.745Z"
   },
   {
    "duration": 5,
    "start_time": "2022-08-01T22:46:02.751Z"
   },
   {
    "duration": 1859,
    "start_time": "2022-08-01T22:46:02.757Z"
   },
   {
    "duration": 4,
    "start_time": "2022-08-01T22:46:04.618Z"
   },
   {
    "duration": 8,
    "start_time": "2022-08-01T22:46:04.623Z"
   },
   {
    "duration": 9,
    "start_time": "2022-08-01T22:46:04.633Z"
   },
   {
    "duration": 7,
    "start_time": "2022-08-01T22:46:04.644Z"
   },
   {
    "duration": 5,
    "start_time": "2022-08-01T22:47:58.816Z"
   },
   {
    "duration": 5,
    "start_time": "2022-08-01T22:48:03.191Z"
   },
   {
    "duration": 6,
    "start_time": "2022-08-01T22:48:19.100Z"
   },
   {
    "duration": 5,
    "start_time": "2022-08-01T22:48:23.900Z"
   },
   {
    "duration": 1270,
    "start_time": "2022-08-01T22:48:59.440Z"
   },
   {
    "duration": 378,
    "start_time": "2022-08-01T22:49:00.712Z"
   },
   {
    "duration": 25,
    "start_time": "2022-08-01T22:49:01.091Z"
   },
   {
    "duration": 16,
    "start_time": "2022-08-01T22:49:01.118Z"
   },
   {
    "duration": 100,
    "start_time": "2022-08-01T22:49:01.136Z"
   },
   {
    "duration": 18,
    "start_time": "2022-08-01T22:49:01.237Z"
   },
   {
    "duration": 122,
    "start_time": "2022-08-01T22:49:01.256Z"
   },
   {
    "duration": 9,
    "start_time": "2022-08-01T22:49:01.380Z"
   },
   {
    "duration": 54,
    "start_time": "2022-08-01T22:49:01.390Z"
   },
   {
    "duration": 5,
    "start_time": "2022-08-01T22:49:01.447Z"
   },
   {
    "duration": 48,
    "start_time": "2022-08-01T22:49:01.454Z"
   },
   {
    "duration": 30,
    "start_time": "2022-08-01T22:49:01.504Z"
   },
   {
    "duration": 146,
    "start_time": "2022-08-01T22:49:01.536Z"
   },
   {
    "duration": 101,
    "start_time": "2022-08-01T22:49:01.773Z"
   },
   {
    "duration": 34,
    "start_time": "2022-08-01T22:49:01.875Z"
   },
   {
    "duration": 491,
    "start_time": "2022-08-01T22:49:01.911Z"
   },
   {
    "duration": 4,
    "start_time": "2022-08-01T22:49:02.404Z"
   },
   {
    "duration": 30,
    "start_time": "2022-08-01T22:49:02.410Z"
   },
   {
    "duration": 16,
    "start_time": "2022-08-01T22:49:02.442Z"
   },
   {
    "duration": 8,
    "start_time": "2022-08-01T22:49:02.459Z"
   },
   {
    "duration": 15,
    "start_time": "2022-08-01T22:49:02.468Z"
   },
   {
    "duration": 1854,
    "start_time": "2022-08-01T22:49:02.485Z"
   },
   {
    "duration": 4,
    "start_time": "2022-08-01T22:49:04.340Z"
   },
   {
    "duration": 9,
    "start_time": "2022-08-01T22:49:04.347Z"
   },
   {
    "duration": 16,
    "start_time": "2022-08-01T22:49:04.357Z"
   },
   {
    "duration": 7,
    "start_time": "2022-08-01T22:49:04.375Z"
   },
   {
    "duration": 1311,
    "start_time": "2022-08-01T22:49:30.001Z"
   },
   {
    "duration": 398,
    "start_time": "2022-08-01T22:49:31.314Z"
   },
   {
    "duration": 22,
    "start_time": "2022-08-01T22:49:31.714Z"
   },
   {
    "duration": 6,
    "start_time": "2022-08-01T22:49:31.737Z"
   },
   {
    "duration": 116,
    "start_time": "2022-08-01T22:49:31.744Z"
   },
   {
    "duration": 30,
    "start_time": "2022-08-01T22:49:31.862Z"
   },
   {
    "duration": 119,
    "start_time": "2022-08-01T22:49:31.894Z"
   },
   {
    "duration": 10,
    "start_time": "2022-08-01T22:49:32.015Z"
   },
   {
    "duration": 60,
    "start_time": "2022-08-01T22:49:32.026Z"
   },
   {
    "duration": 4,
    "start_time": "2022-08-01T22:49:32.089Z"
   },
   {
    "duration": 34,
    "start_time": "2022-08-01T22:49:32.095Z"
   },
   {
    "duration": 24,
    "start_time": "2022-08-01T22:49:32.130Z"
   },
   {
    "duration": 223,
    "start_time": "2022-08-01T22:49:32.156Z"
   },
   {
    "duration": 98,
    "start_time": "2022-08-01T22:49:32.381Z"
   },
   {
    "duration": 111,
    "start_time": "2022-08-01T22:49:32.481Z"
   },
   {
    "duration": 579,
    "start_time": "2022-08-01T22:49:32.594Z"
   },
   {
    "duration": 5,
    "start_time": "2022-08-01T22:49:33.175Z"
   },
   {
    "duration": 12,
    "start_time": "2022-08-01T22:49:33.182Z"
   },
   {
    "duration": 13,
    "start_time": "2022-08-01T22:49:33.196Z"
   },
   {
    "duration": 15,
    "start_time": "2022-08-01T22:49:33.210Z"
   },
   {
    "duration": 5,
    "start_time": "2022-08-01T22:49:33.227Z"
   },
   {
    "duration": 1871,
    "start_time": "2022-08-01T22:49:33.234Z"
   },
   {
    "duration": 4,
    "start_time": "2022-08-01T22:49:35.107Z"
   },
   {
    "duration": 10,
    "start_time": "2022-08-01T22:49:35.112Z"
   },
   {
    "duration": 14,
    "start_time": "2022-08-01T22:49:35.123Z"
   },
   {
    "duration": 9,
    "start_time": "2022-08-01T22:49:35.139Z"
   },
   {
    "duration": 6,
    "start_time": "2022-08-01T22:50:52.055Z"
   },
   {
    "duration": 6,
    "start_time": "2022-08-01T22:50:57.975Z"
   },
   {
    "duration": 5,
    "start_time": "2022-08-01T22:51:06.740Z"
   },
   {
    "duration": 4,
    "start_time": "2022-08-01T22:51:12.661Z"
   }
  ],
  "kernelspec": {
   "display_name": "Python 3 (ipykernel)",
   "language": "python",
   "name": "python3"
  },
  "language_info": {
   "codemirror_mode": {
    "name": "ipython",
    "version": 3
   },
   "file_extension": ".py",
   "mimetype": "text/x-python",
   "name": "python",
   "nbconvert_exporter": "python",
   "pygments_lexer": "ipython3",
   "version": "3.9.5"
  },
  "toc": {
   "base_numbering": 1,
   "nav_menu": {},
   "number_sections": true,
   "sideBar": true,
   "skip_h1_title": true,
   "title_cell": "Table of Contents",
   "title_sidebar": "Contents",
   "toc_cell": false,
   "toc_position": {},
   "toc_section_display": true,
   "toc_window_display": false
  }
 },
 "nbformat": 4,
 "nbformat_minor": 2
}
